{
 "cells": [
  {
   "cell_type": "markdown",
   "id": "b348e26f",
   "metadata": {},
   "source": [
    "# importando a biblioteca "
   ]
  },
  {
   "cell_type": "code",
   "execution_count": 1,
   "id": "a8ca8517",
   "metadata": {},
   "outputs": [],
   "source": [
    "import sklearn"
   ]
  },
  {
   "cell_type": "markdown",
   "id": "d537640e",
   "metadata": {},
   "source": [
    "# importando um dataset de \"brinquedo\" https://scikit-learn.org/stable/datasets/toy_dataset.html"
   ]
  },
  {
   "cell_type": "code",
   "execution_count": 2,
   "id": "9a434c07",
   "metadata": {},
   "outputs": [],
   "source": [
    "from sklearn import datasets\n",
    "\n",
    "iris = datasets.load_iris"
   ]
  },
  {
   "cell_type": "markdown",
   "id": "8cb23334",
   "metadata": {},
   "source": [
    "#começando o projeto de dadasets já setados"
   ]
  },
  {
   "cell_type": "code",
   "execution_count": 2,
   "id": "e8b50880",
   "metadata": {},
   "outputs": [],
   "source": [
    "import pandas as pd"
   ]
  },
  {
   "cell_type": "code",
   "execution_count": 3,
   "id": "890a1f4d",
   "metadata": {
    "scrolled": true
   },
   "outputs": [],
   "source": [
    "diabetes = pd.read_csv('dados/diabetes.csv')"
   ]
  },
  {
   "cell_type": "code",
   "execution_count": 10,
   "id": "414e4f3d",
   "metadata": {},
   "outputs": [],
   "source": [
    "batimentos = pd.read_csv('dados/batimentos cardiacos.csv')"
   ]
  },
  {
   "cell_type": "code",
   "execution_count": 6,
   "id": "96873da9",
   "metadata": {
    "scrolled": false
   },
   "outputs": [],
   "source": [
    "colesterol = pd.read_csv('dados/colesterol.csv')"
   ]
  },
  {
   "cell_type": "code",
   "execution_count": 7,
   "id": "1372893c",
   "metadata": {},
   "outputs": [],
   "source": [
    "x = diabetes.drop('resultado', axis=1) #drop.(x, axis=1) => para selecionar todas as colunas menos a ultima\n",
    "y = diabetes['resultado']"
   ]
  },
  {
   "cell_type": "markdown",
   "id": "a0794cef",
   "metadata": {},
   "source": [
    "# usando modelo de classificação"
   ]
  },
  {
   "cell_type": "code",
   "execution_count": 8,
   "id": "22bfd068",
   "metadata": {},
   "outputs": [],
   "source": [
    "from sklearn.model_selection import train_test_split\n",
    "\n",
    "SEED = 4121988\n",
    "\n",
    "x_treino, x_teste, y_treino, y_teste = train_test_split(x, y) #como default, a fução train_test_split já vem com 25% treino e 75% para teste"
   ]
  },
  {
   "cell_type": "code",
   "execution_count": 9,
   "id": "de988c35",
   "metadata": {},
   "outputs": [],
   "source": [
    "from sklearn.tree import DecisionTreeClassifier\n",
    "\n",
    "clf_arvore = DecisionTreeClassifier(random_state = SEED, max_depth =3)"
   ]
  },
  {
   "cell_type": "code",
   "execution_count": 10,
   "id": "30831c0f",
   "metadata": {},
   "outputs": [
    {
     "data": {
      "text/plain": [
       "DecisionTreeClassifier(max_depth=3, random_state=4121988)"
      ]
     },
     "execution_count": 10,
     "metadata": {},
     "output_type": "execute_result"
    }
   ],
   "source": [
    "clf_arvore.fit(x_treino, y_treino)"
   ]
  },
  {
   "cell_type": "code",
   "execution_count": 11,
   "id": "2f4d82ae",
   "metadata": {},
   "outputs": [
    {
     "data": {
      "text/plain": [
       "0.7135416666666666"
      ]
     },
     "execution_count": 11,
     "metadata": {},
     "output_type": "execute_result"
    }
   ],
   "source": [
    "clf_arvore.score(x_teste, y_teste)"
   ]
  },
  {
   "cell_type": "code",
   "execution_count": 12,
   "id": "792940e0",
   "metadata": {},
   "outputs": [],
   "source": [
    "from sklearn.dummy import DummyClassifier"
   ]
  },
  {
   "cell_type": "code",
   "execution_count": 13,
   "id": "2716304b",
   "metadata": {},
   "outputs": [
    {
     "data": {
      "text/plain": [
       "0.6302083333333334"
      ]
     },
     "execution_count": 13,
     "metadata": {},
     "output_type": "execute_result"
    }
   ],
   "source": [
    "clf_dummy = DummyClassifier(strategy = 'most_frequent')\n",
    "clf_dummy.fit(x_treino, y_treino)\n",
    "clf_dummy.score(x_teste, y_teste)"
   ]
  },
  {
   "cell_type": "markdown",
   "id": "d54bbd5b",
   "metadata": {},
   "source": [
    "# usando outro algoritimo para classificação"
   ]
  },
  {
   "cell_type": "code",
   "execution_count": 14,
   "id": "c3a5f308",
   "metadata": {},
   "outputs": [
    {
     "name": "stderr",
     "output_type": "stream",
     "text": [
      "C:\\Users\\Elvis\\anaconda3\\lib\\site-packages\\sklearn\\svm\\_base.py:985: ConvergenceWarning: Liblinear failed to converge, increase the number of iterations.\n",
      "  warnings.warn(\"Liblinear failed to converge, increase \"\n"
     ]
    },
    {
     "data": {
      "text/plain": [
       "LinearSVC(random_state=4121988)"
      ]
     },
     "execution_count": 14,
     "metadata": {},
     "output_type": "execute_result"
    }
   ],
   "source": [
    "from sklearn.svm import LinearSVC\n",
    "\n",
    "clf_svc = LinearSVC(random_state = SEED)\n",
    "clf_svc.fit(x_treino, y_treino)"
   ]
  },
  {
   "cell_type": "code",
   "execution_count": 15,
   "id": "6fc50f6a",
   "metadata": {},
   "outputs": [
    {
     "data": {
      "text/plain": [
       "0.4965277777777778"
      ]
     },
     "execution_count": 15,
     "metadata": {},
     "output_type": "execute_result"
    }
   ],
   "source": [
    "clf_svc.score(x_treino, y_treino)"
   ]
  },
  {
   "cell_type": "markdown",
   "id": "e4c31871",
   "metadata": {},
   "source": [
    "# usando o algoritimo para regressão"
   ]
  },
  {
   "cell_type": "markdown",
   "id": "62aa2ce1",
   "metadata": {},
   "source": [
    "## usando bibliotecas para plotagem de visualização"
   ]
  },
  {
   "cell_type": "code",
   "execution_count": 16,
   "id": "b27eb065",
   "metadata": {},
   "outputs": [
    {
     "data": {
      "text/plain": [
       "<Figure size 7200x3600 with 0 Axes>"
      ]
     },
     "metadata": {},
     "output_type": "display_data"
    },
    {
     "data": {
      "image/png": "[encoded data removed]",
      "text/plain": [
       "<Figure size 360x360 with 1 Axes>"
      ]
     },
     "metadata": {},
     "output_type": "display_data"
    }
   ],
   "source": [
    "import matplotlib.pyplot as plt\n",
    "import seaborn as sns\n",
    "\n",
    "sns.set()\n",
    "plt.figure(figsize = (100, 50))\n",
    "\n",
    "sns.lmplot(x = 'Peso', y = 'Batimentos cardiacos', data = batimentos, line_kws = {'color' : 'red'})\n",
    "plt.show()"
   ]
  },
  {
   "cell_type": "markdown",
   "id": "0ba93690",
   "metadata": {},
   "source": [
    "# selecionando o X e Y para regressão"
   ]
  },
  {
   "cell_type": "code",
   "execution_count": 17,
   "id": "8fc329d5",
   "metadata": {},
   "outputs": [],
   "source": [
    "x = batimentos[['Peso', 'Idade']]\n",
    "y = batimentos[['Batimentos cardiacos']]"
   ]
  },
  {
   "cell_type": "markdown",
   "id": "31154960",
   "metadata": {},
   "source": [
    "# importando a biblioteca"
   ]
  },
  {
   "cell_type": "code",
   "execution_count": 18,
   "id": "350c8484",
   "metadata": {},
   "outputs": [],
   "source": [
    "from sklearn.model_selection import train_test_split\n",
    "\n",
    "SEED = 4500\n",
    "\n",
    "x_treino, x_teste, y_treino, y_teste = train_test_split(x, y, random_state = SEED)"
   ]
  },
  {
   "cell_type": "markdown",
   "id": "28b94a87",
   "metadata": {},
   "source": [
    "# ajustando o modelo de regressão linear"
   ]
  },
  {
   "cell_type": "code",
   "execution_count": 19,
   "id": "df335464",
   "metadata": {},
   "outputs": [],
   "source": [
    "from sklearn import linear_model\n",
    "\n",
    "rgs = linear_model.LinearRegression(fit_intercept = False, normalize = True)"
   ]
  },
  {
   "cell_type": "markdown",
   "id": "bb7c92b6",
   "metadata": {},
   "source": [
    "## treinando o modelo"
   ]
  },
  {
   "cell_type": "code",
   "execution_count": 20,
   "id": "f7bf3ce4",
   "metadata": {},
   "outputs": [
    {
     "data": {
      "text/plain": [
       "LinearRegression(fit_intercept=False, normalize=True)"
      ]
     },
     "execution_count": 20,
     "metadata": {},
     "output_type": "execute_result"
    }
   ],
   "source": [
    "rgs.fit(x_treino, y_treino)"
   ]
  },
  {
   "cell_type": "code",
   "execution_count": 21,
   "id": "0e273aa8",
   "metadata": {},
   "outputs": [
    {
     "data": {
      "text/plain": [
       "0.9872272899997122"
      ]
     },
     "execution_count": 21,
     "metadata": {},
     "output_type": "execute_result"
    }
   ],
   "source": [
    "rgs.score(x_teste, y_teste)"
   ]
  },
  {
   "cell_type": "code",
   "execution_count": 22,
   "id": "4d1c606d",
   "metadata": {},
   "outputs": [],
   "source": [
    "# # testando com o dummy test                                                      # nao está funcionando\n",
    "# from sklearn.dummy import DummyRegressor\n",
    "\n",
    "# rgs_dummy = DummyRegressor(strategy = 'mean')\n",
    "# rgs_dummy.fit(x_treino, y_treino)\n",
    "# rgs_dummy.score(x_teste, y_teste)\n"
   ]
  },
  {
   "cell_type": "markdown",
   "id": "dc02f4cf",
   "metadata": {},
   "source": [
    "# usando o algoritimo para clustering"
   ]
  },
  {
   "cell_type": "markdown",
   "id": "bbcde9b2",
   "metadata": {},
   "source": [
    "## visualisando os dados"
   ]
  },
  {
   "cell_type": "code",
   "execution_count": 23,
   "id": "5c370255",
   "metadata": {},
   "outputs": [
    {
     "data": {
      "text/plain": [
       "<AxesSubplot:xlabel='pressao_sanguinea_repouso', ylabel='colesterol'>"
      ]
     },
     "execution_count": 23,
     "metadata": {},
     "output_type": "execute_result"
    },
    {
     "data": {
      "image/png": "[encoded data removed]",
      "text/plain": [
       "<Figure size 432x288 with 1 Axes>"
      ]
     },
     "metadata": {},
     "output_type": "display_data"
    }
   ],
   "source": [
    "import seaborn as sns\n",
    "\n",
    "sns.scatterplot(x = 'pressao_sanguinea_repouso', y = 'colesterol', data=colesterol)"
   ]
  },
  {
   "cell_type": "markdown",
   "id": "d7a06681",
   "metadata": {},
   "source": [
    "## importando a biblioteca"
   ]
  },
  {
   "cell_type": "code",
   "execution_count": 24,
   "id": "75eef8e8",
   "metadata": {},
   "outputs": [],
   "source": [
    "from sklearn.cluster import KMeans\n",
    "\n",
    "kmeans = KMeans(n_clusters = 2, random_state = 9) #n_clusters = número de clusters"
   ]
  },
  {
   "cell_type": "code",
   "execution_count": 25,
   "id": "e35a1bfa",
   "metadata": {},
   "outputs": [],
   "source": [
    "x = colesterol"
   ]
  },
  {
   "cell_type": "code",
   "execution_count": 26,
   "id": "d4ff6443",
   "metadata": {},
   "outputs": [],
   "source": [
    "#como é um aprendizado nao supervisionado, nao possui y, ou seja, nao possui as respostas"
   ]
  },
  {
   "cell_type": "code",
   "execution_count": 27,
   "id": "238109cb",
   "metadata": {},
   "outputs": [],
   "source": [
    "# colesterol.info()   #usando info foi detectado string, como tinha string '?' precisa limpar usando o codigo abaixo\n",
    "\n",
    "x = colesterol.select_dtypes('int64')"
   ]
  },
  {
   "cell_type": "code",
   "execution_count": 28,
   "id": "13a8eb9f",
   "metadata": {},
   "outputs": [
    {
     "data": {
      "text/plain": [
       "KMeans(n_clusters=2, random_state=9)"
      ]
     },
     "execution_count": 28,
     "metadata": {},
     "output_type": "execute_result"
    }
   ],
   "source": [
    "kmeans.fit(x)"
   ]
  },
  {
   "cell_type": "code",
   "execution_count": 29,
   "id": "6548b773",
   "metadata": {},
   "outputs": [
    {
     "data": {
      "text/plain": [
       "array([1, 0, 1, 1, 1, 1, 0, 0, 1, 1, 1, 0, 1, 0, 1, 1, 1, 1, 0, 0, 1, 0,\n",
       "       0, 1, 1, 1, 0, 1, 1, 1, 1, 1, 0, 1, 1, 1, 1, 0, 0, 1, 1, 1, 0, 1,\n",
       "       0, 1, 1, 1, 0, 1, 1, 1, 0, 1, 1, 0, 1, 1, 0, 1, 0, 1, 1, 0, 1, 0,\n",
       "       1, 1, 0, 1, 0, 1, 0, 1, 1, 0, 0, 0, 1, 0, 1, 0, 0, 0, 0, 1, 1, 1,\n",
       "       1, 1, 0, 1, 1, 1, 1, 1, 1, 0, 1, 1, 1, 1, 0, 0, 1, 0, 1, 1, 0, 1,\n",
       "       0, 1, 1, 0, 0, 1, 1, 1, 0, 1, 1, 0, 1, 1, 0, 1, 0, 1, 1, 1, 1, 1,\n",
       "       1, 0, 1, 1, 1, 0, 1, 1, 1, 0, 1, 0, 1, 1, 0, 1, 0, 0, 0, 0, 0, 0,\n",
       "       1, 0, 0, 0, 0, 0, 1, 0, 1, 1, 1, 1, 1, 0, 0, 1, 0, 1, 1, 0, 1, 0,\n",
       "       1, 1, 0, 1, 0, 0, 1, 0, 0, 1, 1, 1, 0, 1, 1, 0, 1, 0, 1, 0, 1, 1,\n",
       "       1, 0, 1, 0, 1, 0, 1, 0, 0, 1, 0, 1, 1, 1, 1, 1, 1, 1, 1, 1, 0, 0,\n",
       "       0, 0, 1, 0, 0, 1, 1, 0, 1, 1, 1, 0, 1, 0, 1, 0, 0, 1, 0, 0, 1, 0,\n",
       "       0, 1, 1, 1, 1, 0, 1, 1, 1, 1, 0, 0, 0, 1, 1, 1, 1, 0, 1, 0, 1, 1,\n",
       "       1, 0, 1, 1, 1, 1, 1, 1, 0, 1, 1, 1, 0, 1, 1, 1, 0, 1, 1, 1, 1, 0,\n",
       "       1, 1, 1, 1, 1, 0, 1, 1, 1, 1, 1, 1, 0, 1, 1, 1, 1])"
      ]
     },
     "execution_count": 29,
     "metadata": {},
     "output_type": "execute_result"
    }
   ],
   "source": [
    "kmeans.labels_ # visualisando os 2grupos (0, 1) gerados pelo metodo de clustering"
   ]
  },
  {
   "cell_type": "code",
   "execution_count": 30,
   "id": "03ee53ab",
   "metadata": {},
   "outputs": [],
   "source": [
    "#plotando"
   ]
  },
  {
   "cell_type": "code",
   "execution_count": 31,
   "id": "0a314128",
   "metadata": {},
   "outputs": [
    {
     "data": {
      "text/plain": [
       "<AxesSubplot:xlabel='pressao_sanguinea_repouso', ylabel='colesterol'>"
      ]
     },
     "execution_count": 31,
     "metadata": {},
     "output_type": "execute_result"
    },
    {
     "data": {
      "image/png": "[encoded data removed]",
      "text/plain": [
       "<Figure size 432x288 with 1 Axes>"
      ]
     },
     "metadata": {},
     "output_type": "display_data"
    }
   ],
   "source": [
    "sns.scatterplot(x = 'pressao_sanguinea_repouso', y = 'colesterol', data = colesterol, hue = kmeans.labels_)"
   ]
  },
  {
   "cell_type": "code",
   "execution_count": 32,
   "id": "10259b85",
   "metadata": {},
   "outputs": [
    {
     "data": {
      "text/html": [
       "<div>\n",
       "<style scoped>\n",
       "    .dataframe tbody tr th:only-of-type {\n",
       "        vertical-align: middle;\n",
       "    }\n",
       "\n",
       "    .dataframe tbody tr th {\n",
       "        vertical-align: top;\n",
       "    }\n",
       "\n",
       "    .dataframe thead th {\n",
       "        text-align: right;\n",
       "    }\n",
       "</style>\n",
       "<table border=\"1\" class=\"dataframe\">\n",
       "  <thead>\n",
       "    <tr style=\"text-align: right;\">\n",
       "      <th></th>\n",
       "      <th>idade</th>\n",
       "      <th>genero</th>\n",
       "      <th>tipo_dor_peito</th>\n",
       "      <th>pressao_sanguinea_repouso</th>\n",
       "      <th>acucar_jejum</th>\n",
       "      <th>resultado_eletrocardio</th>\n",
       "      <th>freq_cardio_max</th>\n",
       "      <th>angina_exercicio</th>\n",
       "      <th>depressao_induzida_exercicio</th>\n",
       "      <th>inclinacao</th>\n",
       "      <th>num_princ_vasos</th>\n",
       "      <th>thal</th>\n",
       "      <th>diag_doenca_cardiaca</th>\n",
       "      <th>colesterol</th>\n",
       "      <th>clusters</th>\n",
       "    </tr>\n",
       "  </thead>\n",
       "  <tbody>\n",
       "    <tr>\n",
       "      <th>0</th>\n",
       "      <td>63</td>\n",
       "      <td>1</td>\n",
       "      <td>1</td>\n",
       "      <td>145</td>\n",
       "      <td>1</td>\n",
       "      <td>2</td>\n",
       "      <td>150</td>\n",
       "      <td>0</td>\n",
       "      <td>2.3</td>\n",
       "      <td>3</td>\n",
       "      <td>0</td>\n",
       "      <td>6</td>\n",
       "      <td>0</td>\n",
       "      <td>233</td>\n",
       "      <td>1</td>\n",
       "    </tr>\n",
       "    <tr>\n",
       "      <th>1</th>\n",
       "      <td>67</td>\n",
       "      <td>1</td>\n",
       "      <td>4</td>\n",
       "      <td>160</td>\n",
       "      <td>0</td>\n",
       "      <td>2</td>\n",
       "      <td>108</td>\n",
       "      <td>1</td>\n",
       "      <td>1.5</td>\n",
       "      <td>2</td>\n",
       "      <td>3</td>\n",
       "      <td>3</td>\n",
       "      <td>2</td>\n",
       "      <td>286</td>\n",
       "      <td>0</td>\n",
       "    </tr>\n",
       "    <tr>\n",
       "      <th>2</th>\n",
       "      <td>67</td>\n",
       "      <td>1</td>\n",
       "      <td>4</td>\n",
       "      <td>120</td>\n",
       "      <td>0</td>\n",
       "      <td>2</td>\n",
       "      <td>129</td>\n",
       "      <td>1</td>\n",
       "      <td>2.6</td>\n",
       "      <td>2</td>\n",
       "      <td>2</td>\n",
       "      <td>7</td>\n",
       "      <td>1</td>\n",
       "      <td>229</td>\n",
       "      <td>1</td>\n",
       "    </tr>\n",
       "    <tr>\n",
       "      <th>3</th>\n",
       "      <td>37</td>\n",
       "      <td>1</td>\n",
       "      <td>3</td>\n",
       "      <td>130</td>\n",
       "      <td>0</td>\n",
       "      <td>0</td>\n",
       "      <td>187</td>\n",
       "      <td>0</td>\n",
       "      <td>3.5</td>\n",
       "      <td>3</td>\n",
       "      <td>0</td>\n",
       "      <td>3</td>\n",
       "      <td>0</td>\n",
       "      <td>250</td>\n",
       "      <td>1</td>\n",
       "    </tr>\n",
       "    <tr>\n",
       "      <th>4</th>\n",
       "      <td>41</td>\n",
       "      <td>0</td>\n",
       "      <td>2</td>\n",
       "      <td>130</td>\n",
       "      <td>0</td>\n",
       "      <td>2</td>\n",
       "      <td>172</td>\n",
       "      <td>0</td>\n",
       "      <td>1.4</td>\n",
       "      <td>1</td>\n",
       "      <td>0</td>\n",
       "      <td>3</td>\n",
       "      <td>0</td>\n",
       "      <td>204</td>\n",
       "      <td>1</td>\n",
       "    </tr>\n",
       "  </tbody>\n",
       "</table>\n",
       "</div>"
      ],
      "text/plain": [
       "   idade  genero  tipo_dor_peito  pressao_sanguinea_repouso  acucar_jejum  \\\n",
       "0     63       1               1                        145             1   \n",
       "1     67       1               4                        160             0   \n",
       "2     67       1               4                        120             0   \n",
       "3     37       1               3                        130             0   \n",
       "4     41       0               2                        130             0   \n",
       "\n",
       "   resultado_eletrocardio  freq_cardio_max  angina_exercicio  \\\n",
       "0                       2              150                 0   \n",
       "1                       2              108                 1   \n",
       "2                       2              129                 1   \n",
       "3                       0              187                 0   \n",
       "4                       2              172                 0   \n",
       "\n",
       "   depressao_induzida_exercicio  inclinacao num_princ_vasos thal  \\\n",
       "0                           2.3           3               0    6   \n",
       "1                           1.5           2               3    3   \n",
       "2                           2.6           2               2    7   \n",
       "3                           3.5           3               0    3   \n",
       "4                           1.4           1               0    3   \n",
       "\n",
       "   diag_doenca_cardiaca  colesterol  clusters  \n",
       "0                     0         233         1  \n",
       "1                     2         286         0  \n",
       "2                     1         229         1  \n",
       "3                     0         250         1  \n",
       "4                     0         204         1  "
      ]
     },
     "execution_count": 32,
     "metadata": {},
     "output_type": "execute_result"
    }
   ],
   "source": [
    "colesterol['clusters'] = kmeans.labels_\n",
    "colesterol.head()"
   ]
  },
  {
   "cell_type": "code",
   "execution_count": 33,
   "id": "37e942e7",
   "metadata": {},
   "outputs": [
    {
     "data": {
      "text/plain": [
       "clusters\n",
       "0    298.963964\n",
       "1    216.473958\n",
       "Name: colesterol, dtype: float64"
      ]
     },
     "execution_count": 33,
     "metadata": {},
     "output_type": "execute_result"
    }
   ],
   "source": [
    "colesterol.groupby('clusters')['colesterol'].mean()"
   ]
  },
  {
   "cell_type": "code",
   "execution_count": null,
   "id": "c288f022",
   "metadata": {},
   "outputs": [],
   "source": []
  }
 ],
 "metadata": {
  "kernelspec": {
   "display_name": "Python 3",
   "language": "python",
   "name": "python3"
  },
  "language_info": {
   "codemirror_mode": {
    "name": "ipython",
    "version": 3
   },
   "file_extension": ".py",
   "mimetype": "text/x-python",
   "name": "python",
   "nbconvert_exporter": "python",
   "pygments_lexer": "ipython3",
   "version": "3.8.8"
  }
 },
 "nbformat": 4,
 "nbformat_minor": 5
}
