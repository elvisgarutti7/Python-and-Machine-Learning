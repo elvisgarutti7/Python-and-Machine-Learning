{
 "cells": [
  {
   "cell_type": "code",
   "execution_count": 1,
   "metadata": {
    "colab": {},
    "colab_type": "code",
    "id": "5gSr4bKn_NPo"
   },
   "outputs": [],
   "source": [
    "import torch\n",
    "from torch import nn\n",
    "\n",
    "from skimage import data"
   ]
  },
  {
   "cell_type": "markdown",
   "metadata": {
    "colab_type": "text",
    "id": "Dz3yaPOyyOYp"
   },
   "source": [
    "## Pooling\n",
    "\n",
    "Documentação: https://pytorch.org/docs/stable/nn.html#torch.nn.MaxPool2d\n",
    "\n",
    "```python\n",
    "torch.nn.MaxPool2d(kernel_size, stride=None, padding=0)\n",
    "```\n",
    "\n",
    "**```kernel_size```** <br>\n",
    "Tamanho dos *Field of View*. Pode ser uma tupla ou um único número. Ex: ```kernel_size = 3``` definirá FoV de $3 \\times 3$\n",
    "\n",
    "**```stride```** <br>\n",
    "Controla o pulo da janela deslizante. \n",
    "\n",
    "**```padding```** <br>\n",
    "Preenchimento com zeros nas bordas da imagem.\n",
    "\n",
    "A camda de pooling espera uma entrada de **pelo menos** 3 dimensões ($C \\times H \\times W$), mas em geral a rede irá prover também a dimensão do batch ($B \\times C \\times H \\times W$) "
   ]
  },
  {
   "cell_type": "code",
   "execution_count": 2,
   "metadata": {
    "colab": {},
    "colab_type": "code",
    "id": "z_6nSeAGyuSR"
   },
   "outputs": [
    {
     "name": "stdout",
     "output_type": "stream",
     "text": [
      "torch.Size([1, 3, 3])\n",
      "tensor([[[1., 2., 3.],\n",
      "         [4., 5., 6.],\n",
      "         [7., 8., 9.]]])\n",
      "torch.Size([1, 2, 2])\n",
      "tensor([[[5., 6.],\n",
      "         [8., 9.]]])\n"
     ]
    }
   ],
   "source": [
    "## criando um tensor de exemplo\n",
    "tns = torch.FloatTensor([ [ [ 1, 2,3 ], \n",
    "                            [4,5,6], \n",
    "                            [7,8,9]  ] ] )\n",
    "\n",
    "pool = nn.MaxPool2d(kernel_size=2, stride=1)\n",
    "saida = pool(tns)\n",
    "\n",
    "print(tns.size())\n",
    "print(tns)\n",
    "print(saida.size())\n",
    "print(saida)"
   ]
  },
  {
   "cell_type": "markdown",
   "metadata": {
    "colab_type": "text",
    "id": "p_xGNalT1e2k"
   },
   "source": [
    "Ao processar dados com múltiplos canais, a camada de pooling processa cada canal de entrada separadamente ao invés de processar todos os canais como em uma camada convolucional. Isso significa que **o número de canais de saída para a camada de pooling é o mesmo que o número de canais de entrada**. \n",
    "\n",
    "Vamos processar abaixo a imagem da astronauta."
   ]
  },
  {
   "cell_type": "code",
   "execution_count": 3,
   "metadata": {
    "colab": {},
    "colab_type": "code",
    "id": "dfXYSTkH0gmq"
   },
   "outputs": [
    {
     "name": "stdout",
     "output_type": "stream",
     "text": [
      "Feature Map: torch.Size([1, 16, 512, 512])\n"
     ]
    }
   ],
   "source": [
    "conv = nn.Conv2d(in_channels=3, out_channels=16, \n",
    "                 kernel_size=3, padding=1)\n",
    "\n",
    "rgb = data.astronaut()\n",
    "rgb_tns = torch.Tensor(rgb)\n",
    "rgb_tns = rgb_tns.permute(2, 0, 1).unsqueeze(0)\n",
    "mapa_de_ativacao = conv(rgb_tns)\n",
    "print('Feature Map:', mapa_de_ativacao.shape)"
   ]
  },
  {
   "cell_type": "code",
   "execution_count": 4,
   "metadata": {
    "colab": {},
    "colab_type": "code",
    "id": "lfyfZmZd1iH8"
   },
   "outputs": [
    {
     "name": "stdout",
     "output_type": "stream",
     "text": [
      "torch.Size([1, 16, 256, 256])\n"
     ]
    }
   ],
   "source": [
    "pool = nn.MaxPool2d(kernel_size=2)\n",
    "saida = pool(mapa_de_ativacao)\n",
    "print(saida.size())"
   ]
  },
  {
   "cell_type": "markdown",
   "metadata": {
    "colab_type": "text",
    "id": "M62eNRKDpS1g"
   },
   "source": [
    "## Batch Normalization\n",
    "\n",
    "Documentação: https://pytorch.org/docs/stable/nn.html#torch.nn.BatchNorm2d\n",
    "\n",
    "```python\n",
    "torch.nn.BatchNorm2d(num_features)\n",
    "```\n",
    "\n",
    "**```num_features```**<br>\n",
    "$\\mathbf{\\gamma}$ e $\\mathbf{\\beta}$ são aprendidos individualmente para cada canal da entrada. Em ativações de camadas intermediárias, esse valor corresponde ao **número de feature maps**. \n"
   ]
  },
  {
   "cell_type": "code",
   "execution_count": 29,
   "metadata": {
    "colab": {
     "base_uri": "https://localhost:8080/",
     "height": 159
    },
    "colab_type": "code",
    "executionInfo": {
     "elapsed": 2160,
     "status": "ok",
     "timestamp": 1590763228257,
     "user": {
      "displayName": "Camila Laranjeira",
      "photoUrl": "https://lh3.googleusercontent.com/a-/AOh14Giz7WDIBQ3wOEmidIKdRUS7fGKCuZVQijzJHWlRLjg=s64",
      "userId": "03895474106233302954"
     },
     "user_tz": 180
    },
    "id": "R7rkKA62pUV6",
    "outputId": "3130a87f-213c-4fcf-ac6f-de8553c3ce67"
   },
   "outputs": [
    {
     "name": "stdout",
     "output_type": "stream",
     "text": [
      "Sequential(\n",
      "  (0): Conv2d(3, 32, kernel_size=(3, 3), stride=(1, 1), padding=(1, 1))\n",
      "  (1): BatchNorm2d(32, eps=1e-05, momentum=0.1, affine=True, track_running_stats=True)\n",
      "  (2): ReLU()\n",
      "  (3): MaxPool2d(kernel_size=10, stride=10, padding=0, dilation=1, ceil_mode=False)\n",
      ")\n",
      "torch.Size([12, 3, 512, 512])\n",
      "torch.Size([12, 32, 51, 51])\n"
     ]
    }
   ],
   "source": [
    "blococonv = nn.Sequential(\n",
    "            nn.Conv2d(3,32,kernel_size=3, padding=1),\n",
    "            nn.BatchNorm2d(32),\n",
    "            nn.ReLU(),\n",
    "            nn.MaxPool2d(kernel_size=10)\n",
    ")\n",
    "print(blococonv)\n",
    "\n",
    "minibatch = torch.cat(12*[rgb_tns])\n",
    "\n",
    "print(minibatch.size())\n",
    "saida = blococonv(minibatch)\n",
    "print(saida.size())"
   ]
  }
 ],
 "metadata": {
  "colab": {
   "authorship_tag": "ABX9TyMRUgiM3STPAjSTr9bHd3Pe",
   "collapsed_sections": [],
   "name": "Outras_Camadas.ipynb",
   "provenance": []
  },
  "kernelspec": {
   "display_name": "Python 3",
   "language": "python",
   "name": "python3"
  },
  "language_info": {
   "codemirror_mode": {
    "name": "ipython",
    "version": 3
   },
   "file_extension": ".py",
   "mimetype": "text/x-python",
   "name": "python",
   "nbconvert_exporter": "python",
   "pygments_lexer": "ipython3",
   "version": "3.8.8"
  }
 },
 "nbformat": 4,
 "nbformat_minor": 1
}
