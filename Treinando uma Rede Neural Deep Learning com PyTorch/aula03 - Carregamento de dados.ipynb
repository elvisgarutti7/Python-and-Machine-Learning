{
 "cells": [
  {
   "cell_type": "code",
   "execution_count": 1,
   "id": "463d937e",
   "metadata": {},
   "outputs": [],
   "source": [
    "## Baixando as bibliotecas\n",
    "\n",
    "import torch\n",
    "from torch import nn, optim\n",
    "\n",
    "import matplotlib.pyplot as plt\n",
    "\n",
    "from torchvision import datasets\n",
    "from torchvision import transforms\n",
    "\n",
    "from torch.utils.data import DataLoader\n",
    "\n",
    "import numpy as np"
   ]
  },
  {
   "cell_type": "markdown",
   "id": "936ef9e3",
   "metadata": {},
   "source": [
    "## definindo um dicionario de hiperparametros e também o device(gpu/cpu)"
   ]
  },
  {
   "cell_type": "code",
   "execution_count": 2,
   "id": "ac56bf1e",
   "metadata": {},
   "outputs": [
    {
     "name": "stdout",
     "output_type": "stream",
     "text": [
      "cuda\n"
     ]
    }
   ],
   "source": [
    "args = {    \n",
    "    'batch_size' : 20,\n",
    "    'num_workers' : 4,\n",
    "    'lr' : 1e-4,\n",
    "    'weight_decay' : 5e-4,\n",
    "    'num_epochs' : 30\n",
    "}\n",
    "\n",
    "if torch.cuda.is_available():\n",
    "    args['device'] = torch.device('cuda')\n",
    "    \n",
    "else:\n",
    "    args['device'] = torch.device('cpu')\n",
    "    \n",
    "print(args['device'])"
   ]
  },
  {
   "cell_type": "markdown",
   "id": "ebee397c",
   "metadata": {},
   "source": [
    "## baixano o dataset do MNIST"
   ]
  },
  {
   "cell_type": "code",
   "execution_count": 3,
   "id": "c9fc3034",
   "metadata": {},
   "outputs": [
    {
     "name": "stdout",
     "output_type": "stream",
     "text": [
      "Quantidade de amostras de treino é: 60000.\n",
      "Quantidade de amostras de teste é: 10000.\n"
     ]
    }
   ],
   "source": [
    "train_set = datasets.MNIST('./',\n",
    "                           train=True,\n",
    "                           transform=transforms.ToTensor(),\n",
    "                           download=True) \n",
    "\n",
    "test_set = datasets.MNIST('./',\n",
    "                           train=False,\n",
    "                           transform=transforms.ToTensor(),\n",
    "                           download=False)\n",
    "\n",
    "print('Quantidade de amostras de treino é: {}.'.format(str(len(train_set))))\n",
    "print('Quantidade de amostras de teste é: {}.'.format(str(len(test_set))))"
   ]
  },
  {
   "cell_type": "code",
   "execution_count": 4,
   "id": "e018759c",
   "metadata": {},
   "outputs": [
    {
     "name": "stdout",
     "output_type": "stream",
     "text": [
      "<class 'torchvision.datasets.mnist.MNIST'>\n",
      "<class 'tuple'>\n"
     ]
    }
   ],
   "source": [
    "print(type(train_set))\n",
    "print(type(train_set[0]))"
   ]
  },
  {
   "cell_type": "markdown",
   "id": "24c2db5e",
   "metadata": {},
   "source": [
    "## visualizando o dataset"
   ]
  },
  {
   "cell_type": "code",
   "execution_count": 5,
   "id": "186aa1ba",
   "metadata": {},
   "outputs": [
    {
     "data": {
      "image/png": "[encoded data removed]",
      "text/plain": [
       "<Figure size 432x288 with 1 Axes>"
      ]
     },
     "metadata": {
      "needs_background": "light"
     },
     "output_type": "display_data"
    },
    {
     "data": {
      "image/png": "[encoded data removed]",
      "text/plain": [
       "<Figure size 432x288 with 1 Axes>"
      ]
     },
     "metadata": {
      "needs_background": "light"
     },
     "output_type": "display_data"
    },
    {
     "data": {
      "image/png": "[encoded data removed]",
      "text/plain": [
       "<Figure size 432x288 with 1 Axes>"
      ]
     },
     "metadata": {
      "needs_background": "light"
     },
     "output_type": "display_data"
    }
   ],
   "source": [
    "for i in range(3):\n",
    "    dado, rotulo = train_set[i]\n",
    "    \n",
    "    plt.figure()\n",
    "    plt.imshow(dado[0])\n",
    "    plt.title('Rotulo' + str(rotulo))"
   ]
  },
  {
   "cell_type": "markdown",
   "id": "fa7a3072",
   "metadata": {},
   "source": [
    "# implementando o test loader e train loader"
   ]
  },
  {
   "cell_type": "code",
   "execution_count": 6,
   "id": "82aed528",
   "metadata": {},
   "outputs": [],
   "source": [
    "train_loader = DataLoader(train_set,\n",
    "                          batch_size=args['batch_size'],\n",
    "                          shuffle=True,\n",
    "                          num_workers=args['num_workers'])\n",
    "\n",
    "test_loader = DataLoader(test_set,\n",
    "                          batch_size=args['batch_size'],\n",
    "                          shuffle=True,\n",
    "                          num_workers=args['num_workers'])"
   ]
  },
  {
   "cell_type": "markdown",
   "id": "165681b2",
   "metadata": {},
   "source": [
    "## visualizando os loaders"
   ]
  },
  {
   "cell_type": "code",
   "execution_count": 7,
   "id": "e5578ef7",
   "metadata": {},
   "outputs": [
    {
     "name": "stdout",
     "output_type": "stream",
     "text": [
      "torch.Size([20, 1, 28, 28]) torch.Size([20])\n"
     ]
    },
    {
     "data": {
      "image/png": "[encoded data removed]",
      "text/plain": [
       "<Figure size 432x288 with 1 Axes>"
      ]
     },
     "metadata": {
      "needs_background": "light"
     },
     "output_type": "display_data"
    }
   ],
   "source": [
    "for batch in train_loader:\n",
    "    \n",
    "    dado, rotulo = batch\n",
    "    print(dado.size(), rotulo.size())\n",
    "    \n",
    "    plt.figure()\n",
    "    plt.imshow(dado[0][0])\n",
    "    plt.title('Rotulo' + str(rotulo))\n",
    "    \n",
    "    break"
   ]
  },
  {
   "cell_type": "markdown",
   "id": "b9134fe8",
   "metadata": {},
   "source": [
    "# implementando o MLP"
   ]
  },
  {
   "cell_type": "code",
   "execution_count": 8,
   "id": "2d0a8eeb",
   "metadata": {},
   "outputs": [
    {
     "name": "stdout",
     "output_type": "stream",
     "text": [
      "MLP(\n",
      "  (features): Sequential(\n",
      "    (0): Linear(in_features=784, out_features=128, bias=True)\n",
      "    (1): ReLU()\n",
      "    (2): Linear(in_features=128, out_features=128, bias=True)\n",
      "    (3): ReLU()\n",
      "  )\n",
      "  (out): Linear(in_features=128, out_features=10, bias=True)\n",
      "  (softmax): Softmax(dim=None)\n",
      ")\n"
     ]
    }
   ],
   "source": [
    "## definindo os parametros\n",
    "input_size  = 28 * 28  ## torch.Size([20, 1, 28, 28]) (tamanho da imagem é 28*28)\n",
    "hidden_size = 128\n",
    "out_size = 10  ## número da classes\n",
    "\n",
    "# fazendo a class nn.Module\n",
    "class MLP(nn.Module):\n",
    "    \n",
    "    def __init__(self, input_size, hidden_size, out_size):\n",
    "        super(MLP, self).__init__()\n",
    "        \n",
    "        self.features  = nn.Sequential(\n",
    "                         nn.Linear(input_size, hidden_size),\n",
    "                         nn.ReLU(),\n",
    "                         nn.Linear(hidden_size, hidden_size),\n",
    "                         nn.ReLU()\n",
    "                         )\n",
    "            \n",
    "        self.out     = nn.Linear(hidden_size, out_size)\n",
    "        self.softmax = nn.Softmax()\n",
    "        \n",
    "    def forward(self, X):\n",
    "        \n",
    "        X = X.view(X.size(0), -1) ## redimencionando o X e o -1 para linearizar o restante\n",
    "        \n",
    "        feature = self.features(X)\n",
    "        output = self.softmax(self.out(feature))\n",
    "        \n",
    "        \n",
    "        return output\n",
    "    \n",
    "\n",
    "## jogando os dados na GPU\n",
    "net = MLP(input_size, hidden_size, out_size).to(args['device'])  ## cast na GPU\n",
    "print(net)"
   ]
  },
  {
   "cell_type": "markdown",
   "id": "7ea19f9d",
   "metadata": {},
   "source": [
    "## definindo o loss e o otimizador"
   ]
  },
  {
   "cell_type": "code",
   "execution_count": 9,
   "id": "23e55c90",
   "metadata": {},
   "outputs": [],
   "source": [
    "criterion =nn.CrossEntropyLoss().to(args['device'])\n",
    "optimizer = optim.Adam(net.parameters(), lr=args['lr'], weight_decay=args['weight_decay'])"
   ]
  },
  {
   "cell_type": "markdown",
   "id": "d0039183",
   "metadata": {},
   "source": [
    "## fluxo de treinamento "
   ]
  },
  {
   "cell_type": "code",
   "execution_count": 10,
   "id": "5bfc53b4",
   "metadata": {},
   "outputs": [
    {
     "name": "stderr",
     "output_type": "stream",
     "text": [
      "<ipython-input-8-5272ca50d86b>:27: UserWarning: Implicit dimension choice for softmax has been deprecated. Change the call to include dim=X as an argument.\n",
      "  output = self.softmax(self.out(feature))\n"
     ]
    },
    {
     "name": "stdout",
     "output_type": "stream",
     "text": [
      "Epoca 0, Loss 1.6731 +/- 0.1702\n",
      "Epoca 1, Loss 1.6151 +/- 0.0816\n",
      "Epoca 2, Loss 1.7003 +/- 0.1132\n",
      "Epoca 3, Loss 1.8133 +/- 0.1083\n",
      "Epoca 4, Loss 1.8203 +/- 0.1086\n",
      "Epoca 5, Loss 1.7586 +/- 0.1017\n",
      "Epoca 6, Loss 1.8161 +/- 0.1105\n",
      "Epoca 7, Loss 1.8703 +/- 0.1092\n",
      "Epoca 8, Loss 1.8856 +/- 0.1100\n",
      "Epoca 9, Loss 1.8950 +/- 0.1107\n",
      "Epoca 10, Loss 1.8658 +/- 0.1097\n",
      "Epoca 11, Loss 1.8549 +/- 0.1114\n",
      "Epoca 12, Loss 1.8508 +/- 0.1101\n",
      "Epoca 13, Loss 1.8556 +/- 0.1079\n",
      "Epoca 14, Loss 1.8842 +/- 0.1094\n",
      "Epoca 15, Loss 1.9175 +/- 0.1129\n",
      "Epoca 16, Loss 1.9541 +/- 0.1125\n",
      "Epoca 17, Loss 1.9835 +/- 0.1128\n",
      "Epoca 18, Loss 1.9991 +/- 0.1134\n",
      "Epoca 19, Loss 2.0093 +/- 0.1118\n",
      "Epoca 20, Loss 2.0288 +/- 0.1107\n",
      "Epoca 21, Loss 2.0506 +/- 0.1104\n",
      "Epoca 22, Loss 2.1160 +/- 0.1109\n",
      "Epoca 23, Loss 2.1551 +/- 0.1043\n",
      "Epoca 24, Loss 2.1696 +/- 0.1010\n",
      "Epoca 25, Loss 2.1765 +/- 0.1011\n",
      "Epoca 26, Loss 2.1795 +/- 0.1005\n",
      "Epoca 27, Loss 2.1832 +/- 0.1006\n",
      "Epoca 28, Loss 2.1931 +/- 0.0997\n",
      "Epoca 29, Loss 2.2033 +/- 0.0987\n"
     ]
    }
   ],
   "source": [
    "for epoch in range(args['num_epochs']):\n",
    "    \n",
    "    \n",
    "    epoch_loss = []\n",
    "    \n",
    "    for batch in train_loader:\n",
    "        \n",
    "        dado, rotulo = batch\n",
    "        \n",
    "        # Cast GPU\n",
    "        dado   = dado.to(args['device'])\n",
    "        rotulo = rotulo.to(args['device'])\n",
    "        \n",
    "        # Forward\n",
    "        \n",
    "        predic = net(dado)\n",
    "        loss = criterion(predic, rotulo)\n",
    "        epoch_loss.append(loss.cpu().data)\n",
    "        \n",
    "        # Backward\n",
    "        \n",
    "        loss.backward()\n",
    "        optimizer.step()\n",
    "        \n",
    "    epoch_loss = np.asarray(epoch_loss)\n",
    "    \n",
    "    print('Epoca {}, Loss {:.4f} +/- {:.4f}'.format(epoch, epoch_loss.mean(), epoch_loss.std()))\n",
    "    "
   ]
  },
  {
   "cell_type": "code",
   "execution_count": null,
   "id": "826808f2",
   "metadata": {},
   "outputs": [],
   "source": []
  }
 ],
 "metadata": {
  "kernelspec": {
   "display_name": "Python 3",
   "language": "python",
   "name": "python3"
  },
  "language_info": {
   "codemirror_mode": {
    "name": "ipython",
    "version": 3
   },
   "file_extension": ".py",
   "mimetype": "text/x-python",
   "name": "python",
   "nbconvert_exporter": "python",
   "pygments_lexer": "ipython3",
   "version": "3.8.8"
  }
 },
 "nbformat": 4,
 "nbformat_minor": 5
}
