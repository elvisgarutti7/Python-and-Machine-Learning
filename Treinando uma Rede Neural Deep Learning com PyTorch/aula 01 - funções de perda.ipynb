{
 "cells": [
  {
   "cell_type": "markdown",
   "id": "4256fe7c",
   "metadata": {},
   "source": [
    "# funções de perda"
   ]
  },
  {
   "cell_type": "code",
   "execution_count": 1,
   "id": "883a41ab",
   "metadata": {},
   "outputs": [],
   "source": [
    "import torch\n",
    "from torch import nn\n",
    "import numpy as np\n",
    "import matplotlib.pyplot as plt"
   ]
  },
  {
   "cell_type": "markdown",
   "id": "cbb76856",
   "metadata": {},
   "source": [
    "# instanciando a GPU"
   ]
  },
  {
   "cell_type": "code",
   "execution_count": 2,
   "id": "4db59f88",
   "metadata": {},
   "outputs": [
    {
     "name": "stdout",
     "output_type": "stream",
     "text": [
      "cuda\n"
     ]
    }
   ],
   "source": [
    "if torch.cuda.is_available():\n",
    "    device = torch.device('cuda')\n",
    "else:\n",
    "    device = torch.device('cpu')\n",
    "\n",
    "print(device)"
   ]
  },
  {
   "cell_type": "markdown",
   "id": "dec9c1ce",
   "metadata": {},
   "source": [
    "# CLASSIFICAÇÃO"
   ]
  },
  {
   "cell_type": "markdown",
   "id": "d89e8c4d",
   "metadata": {},
   "source": [
    "# importando o dataset"
   ]
  },
  {
   "cell_type": "code",
   "execution_count": 3,
   "id": "44862341",
   "metadata": {},
   "outputs": [
    {
     "name": "stdout",
     "output_type": "stream",
     "text": [
      "(178, 13) (178,)\n",
      "['alcohol', 'malic_acid', 'ash', 'alcalinity_of_ash', 'magnesium', 'total_phenols', 'flavanoids', 'nonflavanoid_phenols', 'proanthocyanins', 'color_intensity', 'hue', 'od280/od315_of_diluted_wines', 'proline'] ['class_0' 'class_1' 'class_2']\n"
     ]
    }
   ],
   "source": [
    "from sklearn import datasets\n",
    "\n",
    "wine = datasets.load_wine()\n",
    "data = wine.data\n",
    "target = wine. target\n",
    "\n",
    "print(data.shape, target.shape)\n",
    "print(wine.feature_names, wine.target_names)\n"
   ]
  },
  {
   "cell_type": "markdown",
   "id": "1c70229d",
   "metadata": {},
   "source": [
    "# criando a rede neural para classificação"
   ]
  },
  {
   "cell_type": "code",
   "execution_count": 4,
   "id": "61131c38",
   "metadata": {},
   "outputs": [
    {
     "name": "stdout",
     "output_type": "stream",
     "text": [
      "WineClassifier(\n",
      "  (hidden): Linear(in_features=13, out_features=32, bias=True)\n",
      "  (relu): ReLU()\n",
      "  (out): Linear(in_features=32, out_features=3, bias=True)\n",
      "  (softmax): Softmax(dim=None)\n",
      ")\n"
     ]
    }
   ],
   "source": [
    "## definindo os parametros\n",
    "input_size  = data.shape[1]  ## quantidade de X do data set\n",
    "hidden_size = 32\n",
    "out_size = len(wine.target_names) ## quantidade de Y\n",
    "\n",
    "# fazendo a class nn.Module\n",
    "class WineClassifier(nn.Module):\n",
    "    \n",
    "    def __init__(self, input_size, hidden_size, out_size):\n",
    "        super(WineClassifier, self).__init__()\n",
    "        \n",
    "        self.hidden  = nn.Linear(input_size, hidden_size)\n",
    "        self.relu    = nn.ReLU()\n",
    "        self.out     = nn.Linear(hidden_size, out_size)\n",
    "        self.softmax = nn.Softmax()\n",
    "        \n",
    "    def forward(self, X):\n",
    "        \n",
    "        feature = self.relu(self.hidden(X))\n",
    "        output = self.softmax(self.out(feature))\n",
    "        \n",
    "        \n",
    "        return output\n",
    "    \n",
    "\n",
    "## jogando os dados na GPU\n",
    "net = WineClassifier(input_size, hidden_size, out_size).to(device)  ## cast na GPU\n",
    "print(net)"
   ]
  },
  {
   "cell_type": "markdown",
   "id": "107db8d0",
   "metadata": {},
   "source": [
    "# instanciando a função de perda em função da classificacao"
   ]
  },
  {
   "cell_type": "markdown",
   "id": "99c7d41f",
   "metadata": {},
   "source": [
    "## utilizando entropya cruzada"
   ]
  },
  {
   "cell_type": "code",
   "execution_count": 5,
   "id": "6f22b47d",
   "metadata": {},
   "outputs": [],
   "source": [
    "criterion = nn.CrossEntropyLoss().to(device) ##cast na GPU"
   ]
  },
  {
   "cell_type": "markdown",
   "id": "cd571270",
   "metadata": {},
   "source": [
    "# transformando os dados em tensores"
   ]
  },
  {
   "cell_type": "code",
   "execution_count": 17,
   "id": "d6e384df",
   "metadata": {},
   "outputs": [
    {
     "name": "stdout",
     "output_type": "stream",
     "text": [
      "torch.float32 torch.int64\n"
     ]
    }
   ],
   "source": [
    "Xtns = torch.from_numpy(data).float() ##como os dados sao array nunmpy, fou usado o comando from_numpy e transformando em float 32\n",
    "Ytns = torch.from_numpy(target).long() ## transformar int 32 para int 64\n",
    "\n",
    "\n",
    "Xtns = Xtns.to(device) #cast na GPU\n",
    "Ytns = Ytns.to(device) #cast na GPU\n",
    "\n",
    "print(Xtns.dtype, Ytns.dtype)"
   ]
  },
  {
   "cell_type": "code",
   "execution_count": 13,
   "id": "3c96cc64",
   "metadata": {},
   "outputs": [
    {
     "name": "stderr",
     "output_type": "stream",
     "text": [
      "<ipython-input-4-a84a0e39d1c4>:20: UserWarning: Implicit dimension choice for softmax has been deprecated. Change the call to include dim=X as an argument.\n",
      "  output = self.softmax(self.out(feature))\n"
     ]
    }
   ],
   "source": [
    "pred = net(Xtns)"
   ]
  },
  {
   "cell_type": "code",
   "execution_count": 14,
   "id": "baf1ca04",
   "metadata": {},
   "outputs": [
    {
     "name": "stdout",
     "output_type": "stream",
     "text": [
      "torch.Size([178, 3]) torch.Size([178])\n"
     ]
    }
   ],
   "source": [
    "print(pred.shape, Ytns.shape)"
   ]
  },
  {
   "cell_type": "code",
   "execution_count": 15,
   "id": "01a89754",
   "metadata": {},
   "outputs": [
    {
     "name": "stdout",
     "output_type": "stream",
     "text": [
      "tensor([0., 1., 0.], device='cuda:0') tensor(0, device='cuda:0')\n"
     ]
    }
   ],
   "source": [
    "print(pred[0].data, Ytns[0].data)"
   ]
  },
  {
   "cell_type": "code",
   "execution_count": 18,
   "id": "ff2bca07",
   "metadata": {},
   "outputs": [
    {
     "name": "stdout",
     "output_type": "stream",
     "text": [
      "tensor(1.1526, device='cuda:0', grad_fn=<NllLossBackward0>)\n"
     ]
    }
   ],
   "source": [
    "##### só funciona se o Y estiver em int64\n",
    "\n",
    "loss = criterion(pred, Ytns)\n",
    "print(loss)"
   ]
  },
  {
   "cell_type": "markdown",
   "id": "c9642935",
   "metadata": {},
   "source": [
    "# REGRESSÃO"
   ]
  },
  {
   "cell_type": "markdown",
   "id": "f541fa4e",
   "metadata": {},
   "source": [
    "## importando o dataset"
   ]
  },
  {
   "cell_type": "code",
   "execution_count": 25,
   "id": "570c0ace",
   "metadata": {},
   "outputs": [
    {
     "name": "stdout",
     "output_type": "stream",
     "text": [
      "(442, 10) (442,)\n",
      "[ 4.53409833e-02 -4.46416365e-02 -2.56065715e-02 -1.25563519e-02\n",
      "  1.76943802e-02 -6.12835791e-05  8.17748397e-02 -3.94933829e-02\n",
      " -3.19914449e-02 -7.56356220e-02]\n",
      "118.0\n"
     ]
    }
   ],
   "source": [
    "from sklearn import datasets\n",
    "\n",
    "diabetes = datasets.load_diabetes()\n",
    "\n",
    "data = diabetes.data\n",
    "target = diabetes.target\n",
    "\n",
    "print(data.shape, target.shape)\n",
    "print(data[14])\n",
    "print(target[14])"
   ]
  },
  {
   "cell_type": "markdown",
   "id": "600be1fc",
   "metadata": {},
   "source": [
    "# Criando a rede neural para Regressão"
   ]
  },
  {
   "cell_type": "code",
   "execution_count": 33,
   "id": "4a1e0e25",
   "metadata": {},
   "outputs": [
    {
     "name": "stdout",
     "output_type": "stream",
     "text": [
      "WineClassifier(\n",
      "  (hidden): Linear(in_features=10, out_features=32, bias=True)\n",
      "  (relu): ReLU()\n",
      "  (out): Linear(in_features=32, out_features=1, bias=True)\n",
      "  (softmax): Softmax(dim=-1)\n",
      ")\n"
     ]
    }
   ],
   "source": [
    "## definindo os parametros\n",
    "input_size  = data.shape[1]  ## quantidade de X do data set\n",
    "hidden_size = 32\n",
    "out_size = 1 ## quantidade de Y (tem apenas 1 variável) // #progressão da diabetes\n",
    "\n",
    "# fazendo a class nn.Module\n",
    "class WineClassifier(nn.Module):\n",
    "    \n",
    "    def __init__(self, input_size, hidden_size, out_size):\n",
    "        super(WineClassifier, self).__init__()\n",
    "        \n",
    "        self.hidden  = nn.Linear(input_size, hidden_size)\n",
    "        self.relu    = nn.ReLU()\n",
    "        self.out     = nn.Linear(hidden_size, out_size)\n",
    "        self.softmax = nn.Softmax(dim=-1)\n",
    "        \n",
    "    def forward(self, X):\n",
    "        \n",
    "        feature = self.relu(self.hidden(X))\n",
    "        output = self.softmax(self.out(feature))\n",
    "        \n",
    "        \n",
    "        return output\n",
    "    \n",
    "\n",
    "## jogando os dados na GPU\n",
    "net = WineClassifier(input_size, hidden_size, out_size).to(device)  ## cast na GPU\n",
    "print(net)"
   ]
  },
  {
   "cell_type": "markdown",
   "id": "e1e16894",
   "metadata": {},
   "source": [
    "# Definindo a função de perda"
   ]
  },
  {
   "cell_type": "markdown",
   "id": "22578176",
   "metadata": {},
   "source": [
    "## Utilizando a função MSELoss = mean squared erros"
   ]
  },
  {
   "cell_type": "markdown",
   "id": "1d730963",
   "metadata": {},
   "source": [
    "### importante: quandor for passar no loss, tanto o Ytns quanto o pred tem que ter a mesma dimensão se não dá ERRO"
   ]
  },
  {
   "cell_type": "code",
   "execution_count": 34,
   "id": "b80da37d",
   "metadata": {},
   "outputs": [
    {
     "name": "stdout",
     "output_type": "stream",
     "text": [
      "torch.Size([442, 10]) torch.Size([442])\n",
      "torch.float32 torch.float32\n"
     ]
    }
   ],
   "source": [
    "criterion = nn.MSELoss().to(device)  #subir na GPU\n",
    "\n",
    "# cast da GPU\n",
    "\n",
    "Xtns = torch.from_numpy(data).float().to(device)\n",
    "Ytns = torch.from_numpy(target).float().to(device)\n",
    "\n",
    "print(Xtns.shape, Ytns.shape)\n",
    "print(Xtns.dtype, Ytns.dtype)"
   ]
  },
  {
   "cell_type": "code",
   "execution_count": 35,
   "id": "f2c2bd3a",
   "metadata": {},
   "outputs": [
    {
     "name": "stdout",
     "output_type": "stream",
     "text": [
      "torch.Size([442, 1])\n",
      "tensor(28771.2168, device='cuda:0')\n"
     ]
    }
   ],
   "source": [
    "pred = net(Xtns)\n",
    "print(pred.shape)\n",
    "\n",
    "loss = criterion(pred.squeeze(), Ytns)   #função squeeze/unsqueeze modifica os dados, no caso, o pred foi modificado para ter o mesmo tamanho do ytns\n",
    "print(loss.data)"
   ]
  },
  {
   "cell_type": "markdown",
   "id": "d3381cb8",
   "metadata": {},
   "source": [
    "## utilizando outra função de critério, L1loss => Creates a criterion that measures the mean absolute error (MAE) between each element"
   ]
  },
  {
   "cell_type": "code",
   "execution_count": 38,
   "id": "ba95e85d",
   "metadata": {},
   "outputs": [
    {
     "name": "stdout",
     "output_type": "stream",
     "text": [
      "torch.Size([442, 1])\n",
      "tensor(151.1335, device='cuda:0')\n"
     ]
    }
   ],
   "source": [
    "# utilizando outra função de criterio\n",
    "\n",
    "criterion = nn.L1Loss().to(device)\n",
    "\n",
    "Xtns = torch.from_numpy(data).float().to(device)\n",
    "Ytns = torch.from_numpy(target).float().to(device)\n",
    "\n",
    "pred = net(Xtns)\n",
    "print(pred.shape)\n",
    "\n",
    "loss = criterion(pred.squeeze(), Ytns)   #função squeeze/unsqueeze modifica os dados, no caso, o pred foi modificado para ter o mesmo tamanho do ytns\n",
    "print(loss.data)"
   ]
  },
  {
   "cell_type": "code",
   "execution_count": null,
   "id": "2b1e9e63",
   "metadata": {},
   "outputs": [],
   "source": []
  }
 ],
 "metadata": {
  "kernelspec": {
   "display_name": "Python 3",
   "language": "python",
   "name": "python3"
  },
  "language_info": {
   "codemirror_mode": {
    "name": "ipython",
    "version": 3
   },
   "file_extension": ".py",
   "mimetype": "text/x-python",
   "name": "python",
   "nbconvert_exporter": "python",
   "pygments_lexer": "ipython3",
   "version": "3.8.8"
  }
 },
 "nbformat": 4,
 "nbformat_minor": 5
}
