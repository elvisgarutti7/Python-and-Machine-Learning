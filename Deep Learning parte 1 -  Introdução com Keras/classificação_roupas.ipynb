{
 "cells": [
  {
   "cell_type": "markdown",
   "metadata": {
    "id": "5AUZLv4uT6qQ"
   },
   "source": [
    "Imports\n"
   ]
  },
  {
   "cell_type": "code",
   "execution_count": 1,
   "metadata": {
    "id": "YAN24Qb7TslE"
   },
   "outputs": [],
   "source": [
    "import tensorflow\n",
    "from tensorflow import keras \n",
    "import matplotlib.pyplot as plt\n",
    "import numpy as np"
   ]
  },
  {
   "cell_type": "markdown",
   "metadata": {
    "id": "CrS7d8YPUBeh"
   },
   "source": [
    "Carregando o dataset"
   ]
  },
  {
   "cell_type": "code",
   "execution_count": 5,
   "metadata": {
    "id": "6NnBDAuOTuL4"
   },
   "outputs": [],
   "source": [
    "dataset = keras.datasets.fashion_mnist\n",
    "((imagens_treino, identificacoes_treino),(imagens_teste, identificacoes_teste)) = dataset.load_data()"
   ]
  },
  {
   "cell_type": "markdown",
   "metadata": {
    "id": "TjPqK11LUE29"
   },
   "source": [
    "Exploração dos dados"
   ]
  },
  {
   "cell_type": "code",
   "execution_count": 6,
   "metadata": {
    "colab": {
     "base_uri": "https://localhost:8080/"
    },
    "id": "-Gyb4Pg5TxQL",
    "outputId": "730d6ca6-a0ec-4e42-adca-c0ce04ed6802"
   },
   "outputs": [
    {
     "data": {
      "text/plain": [
       "9"
      ]
     },
     "execution_count": 6,
     "metadata": {},
     "output_type": "execute_result"
    }
   ],
   "source": [
    "len(imagens_treino)\n",
    "imagens_treino.shape\n",
    "imagens_teste.shape\n",
    "len(identificacoes_treino)\n",
    "len(identificacoes_teste)\n",
    "identificacoes_treino.min()\n",
    "identificacoes_treino.max()\n"
   ]
  },
  {
   "cell_type": "markdown",
   "metadata": {
    "id": "H0mDiHcLUHJa"
   },
   "source": [
    "Exibir os dados"
   ]
  },
  {
   "cell_type": "code",
   "execution_count": 13,
   "metadata": {
    "colab": {
     "base_uri": "https://localhost:8080/",
     "height": 283
    },
    "id": "v0R6NsjPCtyU",
    "outputId": "b6e5e0c2-297a-44d0-a631-3c3462a76147"
   },
   "outputs": [
    {
     "data": {
      "text/plain": [
       "<matplotlib.colorbar.Colorbar at 0x2680f630c70>"
      ]
     },
     "execution_count": 13,
     "metadata": {},
     "output_type": "execute_result"
    },
    {
     "data": {
      "image/png": "[encoded data removed]",
      "text/plain": [
       "<Figure size 432x288 with 2 Axes>"
      ]
     },
     "metadata": {
      "needs_background": "light"
     },
     "output_type": "display_data"
    }
   ],
   "source": [
    "total_de_classificacoes = 10\n",
    "nomes_de_classificacoes = ['Camiseta', 'Calça', 'Pullover', 'Vestido', 'Casaco', 'Sandália', 'Camisa', 'Tênis', 'Bolsa', 'Bota']\n",
    "\n",
    "plt.imshow(imagens_treino[0])\n",
    "plt.colorbar()"
   ]
  },
  {
   "cell_type": "markdown",
   "metadata": {
    "id": "RcsP3obNrono"
   },
   "source": [
    "Normalizando as imagens"
   ]
  },
  {
   "cell_type": "code",
   "execution_count": 5,
   "metadata": {
    "id": "tkBO6_bMDHf0"
   },
   "outputs": [],
   "source": [
    "# modelo #vai ser em sequência\n",
    "#   entrada\n",
    "#   processamento\n",
    "#   saida"
   ]
  },
  {
   "cell_type": "code",
   "execution_count": 7,
   "metadata": {
    "id": "_ppSqbo4U0-h"
   },
   "outputs": [],
   "source": [
    "# processo de dividir a imagem pela colarização é chamado de normalização, eficiente para diminuir a perca em alguns casos\n",
    "imagens_treino = imagens_treino/float(255)"
   ]
  },
  {
   "cell_type": "markdown",
   "metadata": {
    "id": "IL1YdxDXsLe_"
   },
   "source": [
    "Criando, copilando e treinando o modelo e normalizando o modelo com Dropout"
   ]
  },
  {
   "cell_type": "code",
   "execution_count": 12,
   "metadata": {
    "colab": {
     "base_uri": "https://localhost:8080/"
    },
    "id": "eYX92qbirwn_",
    "outputId": "54f0c370-cc43-4b19-ced8-9b74de327e86"
   },
   "outputs": [
    {
     "name": "stdout",
     "output_type": "stream",
     "text": [
      "Epoch 1/30\n",
      "1500/1500 [==============================] - 1s 831us/step - loss: 3.4794 - accuracy: 0.6340 - val_loss: 0.8424 - val_accuracy: 0.6762\n",
      "Epoch 2/30\n",
      "1500/1500 [==============================] - 1s 750us/step - loss: 0.8980 - accuracy: 0.6740 - val_loss: 0.7752 - val_accuracy: 0.7094\n",
      "Epoch 3/30\n",
      "1500/1500 [==============================] - 1s 775us/step - loss: 0.7999 - accuracy: 0.7084 - val_loss: 0.6134 - val_accuracy: 0.7857\n",
      "Epoch 4/30\n",
      "1500/1500 [==============================] - 1s 747us/step - loss: 0.7477 - accuracy: 0.7282 - val_loss: 0.6306 - val_accuracy: 0.8059\n",
      "Epoch 5/30\n",
      "1500/1500 [==============================] - 1s 759us/step - loss: 0.7112 - accuracy: 0.7434 - val_loss: 0.5888 - val_accuracy: 0.7990\n",
      "Epoch 6/30\n",
      "1500/1500 [==============================] - 1s 790us/step - loss: 0.6953 - accuracy: 0.7485 - val_loss: 0.5636 - val_accuracy: 0.8144\n",
      "Epoch 7/30\n",
      "1500/1500 [==============================] - 1s 770us/step - loss: 0.6803 - accuracy: 0.7567 - val_loss: 0.5421 - val_accuracy: 0.8241\n",
      "Epoch 8/30\n",
      "1500/1500 [==============================] - 1s 740us/step - loss: 0.7280 - accuracy: 0.7351 - val_loss: 0.6903 - val_accuracy: 0.7555\n",
      "Epoch 9/30\n",
      "1500/1500 [==============================] - 1s 767us/step - loss: 0.6952 - accuracy: 0.7528 - val_loss: 0.6217 - val_accuracy: 0.7892\n",
      "Epoch 10/30\n",
      "1500/1500 [==============================] - 1s 747us/step - loss: 0.6642 - accuracy: 0.7611 - val_loss: 0.5220 - val_accuracy: 0.8273\n",
      "Epoch 11/30\n",
      "1500/1500 [==============================] - 1s 755us/step - loss: 0.6648 - accuracy: 0.7648 - val_loss: 0.6466 - val_accuracy: 0.7650\n",
      "Epoch 12/30\n",
      "1500/1500 [==============================] - 1s 783us/step - loss: 0.6598 - accuracy: 0.7650 - val_loss: 0.5328 - val_accuracy: 0.8288\n",
      "Epoch 13/30\n",
      "1500/1500 [==============================] - 1s 840us/step - loss: 0.6612 - accuracy: 0.7679 - val_loss: 0.5223 - val_accuracy: 0.8239\n",
      "Epoch 14/30\n",
      "1500/1500 [==============================] - 1s 881us/step - loss: 0.6655 - accuracy: 0.7659 - val_loss: 0.5350 - val_accuracy: 0.8161\n",
      "Epoch 15/30\n",
      "1500/1500 [==============================] - 1s 846us/step - loss: 0.6412 - accuracy: 0.7733 - val_loss: 0.6305 - val_accuracy: 0.7767\n",
      "Epoch 16/30\n",
      "1500/1500 [==============================] - 1s 813us/step - loss: 0.6526 - accuracy: 0.7700 - val_loss: 0.6047 - val_accuracy: 0.8064\n",
      "Epoch 17/30\n",
      "1500/1500 [==============================] - 1s 868us/step - loss: 0.6852 - accuracy: 0.7664 - val_loss: 0.5585 - val_accuracy: 0.8317\n",
      "Epoch 18/30\n",
      "1500/1500 [==============================] - 1s 864us/step - loss: 0.6538 - accuracy: 0.7739 - val_loss: 0.6252 - val_accuracy: 0.8161\n",
      "Epoch 19/30\n",
      "1500/1500 [==============================] - 1s 841us/step - loss: 0.6559 - accuracy: 0.7776 - val_loss: 0.5305 - val_accuracy: 0.8257\n",
      "Epoch 20/30\n",
      "1500/1500 [==============================] - 1s 830us/step - loss: 0.6528 - accuracy: 0.7746 - val_loss: 0.6510 - val_accuracy: 0.7847\n",
      "Epoch 21/30\n",
      "1500/1500 [==============================] - 1s 823us/step - loss: 0.6658 - accuracy: 0.7713 - val_loss: 0.6165 - val_accuracy: 0.7645\n",
      "Epoch 22/30\n",
      "1500/1500 [==============================] - 1s 878us/step - loss: 0.6697 - accuracy: 0.7571 - val_loss: 0.6068 - val_accuracy: 0.8179\n",
      "Epoch 23/30\n",
      "1500/1500 [==============================] - 1s 891us/step - loss: 0.6658 - accuracy: 0.7745 - val_loss: 0.7051 - val_accuracy: 0.7780\n",
      "Epoch 24/30\n",
      "1500/1500 [==============================] - 1s 851us/step - loss: 0.6538 - accuracy: 0.7780 - val_loss: 0.5825 - val_accuracy: 0.8155\n",
      "Epoch 25/30\n",
      "1500/1500 [==============================] - 1s 853us/step - loss: 0.6632 - accuracy: 0.7733 - val_loss: 0.6613 - val_accuracy: 0.8130\n",
      "Epoch 26/30\n",
      "1500/1500 [==============================] - 1s 857us/step - loss: 0.6556 - accuracy: 0.7711 - val_loss: 0.6081 - val_accuracy: 0.8316\n",
      "Epoch 27/30\n",
      "1500/1500 [==============================] - 1s 916us/step - loss: 0.6587 - accuracy: 0.7758 - val_loss: 0.6150 - val_accuracy: 0.8193\n",
      "Epoch 28/30\n",
      "1500/1500 [==============================] - 1s 846us/step - loss: 0.6418 - accuracy: 0.7799 - val_loss: 0.6430 - val_accuracy: 0.8123\n",
      "Epoch 29/30\n",
      "1500/1500 [==============================] - 1s 832us/step - loss: 0.6393 - accuracy: 0.7847 - val_loss: 0.5775 - val_accuracy: 0.8242\n",
      "Epoch 30/30\n",
      "1500/1500 [==============================] - 1s 878us/step - loss: 0.6288 - accuracy: 0.7846 - val_loss: 0.5941 - val_accuracy: 0.8175\n"
     ]
    }
   ],
   "source": [
    "#criando o modelo\n",
    "modelo = keras.Sequential([\n",
    "  keras.layers.Flatten(input_shape = (28, 28)),\n",
    "  keras.layers.Dense(256, activation = tensorflow.nn.relu),\n",
    "  keras.layers.Dropout(0.2),\n",
    "  keras.layers.Dense(10, activation= tensorflow.nn.softmax)\n",
    "])\n",
    "\n",
    "#copilando o modelo\n",
    "modelo.compile(optimizer = 'adam',\n",
    "               loss = 'sparse_categorical_crossentropy',\n",
    "               metrics=['accuracy'])\n",
    "\n",
    "#salvando dados do modelo e treinando o modelo\n",
    "historico = modelo.fit(imagens_treino, identificacoes_treino, epochs = 30, validation_split = 0.2)"
   ]
  },
  {
   "cell_type": "markdown",
   "metadata": {
    "id": "XZefMBYqskf7"
   },
   "source": [
    " Como salvar o modelo e carregar o modelo treinado"
   ]
  },
  {
   "cell_type": "code",
   "execution_count": 9,
   "metadata": {
    "id": "R0UtyAEnqSYv"
   },
   "outputs": [],
   "source": [
    "from tensorflow.keras.models import load_model\n",
    "\n",
    "modelo.save('modelo.h5')\n",
    "modelo_salvo = load_model('modelo.h5')"
   ]
  },
  {
   "cell_type": "markdown",
   "metadata": {
    "id": "RsrjVr2os9TC"
   },
   "source": [
    "Visualizando as acurácias de treino e validação por época"
   ]
  },
  {
   "cell_type": "code",
   "execution_count": 10,
   "metadata": {
    "id": "OpmzGGxsl8rp"
   },
   "outputs": [
    {
     "data": {
      "text/plain": [
       "<matplotlib.legend.Legend at 0x23e573d0460>"
      ]
     },
     "execution_count": 10,
     "metadata": {},
     "output_type": "execute_result"
    },
    {
     "data": {
      "image/png": "[encoded data removed]",
      "text/plain": [
       "<Figure size 432x288 with 1 Axes>"
      ]
     },
     "metadata": {
      "needs_background": "light"
     },
     "output_type": "display_data"
    }
   ],
   "source": [
    "plt.plot(historico.history['accuracy'])\n",
    "plt.plot(historico.history['val_accuracy'])\n",
    "plt.title('Acurácia por épocas')\n",
    "plt.xlabel('épocas')\n",
    "plt.ylabel('acurácia')\n",
    "plt.legend(['treino', 'validação'])"
   ]
  },
  {
   "cell_type": "markdown",
   "metadata": {
    "id": "YjPWaL9PtHTS"
   },
   "source": [
    "Visualizando as perdas de treino e validação por época"
   ]
  },
  {
   "cell_type": "code",
   "execution_count": 11,
   "metadata": {
    "colab": {
     "base_uri": "https://localhost:8080/",
     "height": 315
    },
    "id": "OaL2R2-1nPQj",
    "outputId": "2109e464-69ba-4f64-a671-9f1ddb2bbb48"
   },
   "outputs": [
    {
     "data": {
      "text/plain": [
       "<matplotlib.legend.Legend at 0x23e5742efa0>"
      ]
     },
     "execution_count": 11,
     "metadata": {},
     "output_type": "execute_result"
    },
    {
     "data": {
      "image/png": "[encoded data removed]",
      "text/plain": [
       "<Figure size 432x288 with 1 Axes>"
      ]
     },
     "metadata": {
      "needs_background": "light"
     },
     "output_type": "display_data"
    }
   ],
   "source": [
    "plt.plot(historico.history['loss'])\n",
    "plt.plot(historico.history['val_loss'])\n",
    "plt.title('Perda por épocas')\n",
    "plt.xlabel('épocas')\n",
    "plt.ylabel('perda')\n",
    "plt.legend(['treino', 'validação'])"
   ]
  },
  {
   "cell_type": "markdown",
   "metadata": {
    "id": "ii5OXbHOtRTH"
   },
   "source": [
    "Testando o modelo e o modelo salvo"
   ]
  },
  {
   "cell_type": "code",
   "execution_count": 12,
   "metadata": {
    "colab": {
     "base_uri": "https://localhost:8080/"
    },
    "id": "seU3xLGJWUpK",
    "outputId": "85bd2ea7-d404-4dfd-bb1c-e09285ea7359"
   },
   "outputs": [
    {
     "name": "stdout",
     "output_type": "stream",
     "text": [
      "O resultadodo teste é:  2\n",
      "número da imagem de teste:  2\n",
      "O resultado do teste do modelo salvo:  2\n",
      "número da imagem de teste do modelo salvo:  2\n"
     ]
    }
   ],
   "source": [
    "testes = modelo.predict(imagens_teste)\n",
    "print('O resultadodo teste é: ', np.argmax(testes[1]))\n",
    "print('número da imagem de teste: ', identificacoes_teste[1])\n",
    "\n",
    "testes_modelo_salvo = modelo_salvo.predict(imagens_teste)\n",
    "print('O resultado do teste do modelo salvo: ', np.argmax(testes_modelo_salvo[1]))\n",
    "print('número da imagem de teste do modelo salvo: ', identificacoes_teste[1])"
   ]
  },
  {
   "cell_type": "markdown",
   "metadata": {
    "id": "UsVvsMCwtXvy"
   },
   "source": [
    "Avaliando o modelo"
   ]
  },
  {
   "cell_type": "code",
   "execution_count": 13,
   "metadata": {
    "colab": {
     "base_uri": "https://localhost:8080/"
    },
    "id": "1U6Pkzf6c0WD",
    "outputId": "ffcbd9c6-9aef-4e83-c67e-4159572a4594"
   },
   "outputs": [
    {
     "name": "stdout",
     "output_type": "stream",
     "text": [
      "313/313 [==============================] - 0s 574us/step - loss: 55.3123 - accuracy: 0.8523\n",
      "Perda do teste:  55.312313079833984 Acurácia do teste:  0.8522999882698059\n"
     ]
    }
   ],
   "source": [
    "perda_teste, acuracia_teste = modelo.evaluate(imagens_teste, identificacoes_teste)\n",
    "print('Perda do teste: ', perda_teste,\n",
    "      'Acurácia do teste: ', acuracia_teste\n",
    "      )"
   ]
  },
  {
   "cell_type": "code",
   "execution_count": null,
   "metadata": {},
   "outputs": [],
   "source": []
  }
 ],
 "metadata": {
  "colab": {
   "collapsed_sections": [],
   "name": "classificação_roupas.ipynb",
   "provenance": []
  },
  "kernelspec": {
   "display_name": "Python 3",
   "language": "python",
   "name": "python3"
  },
  "language_info": {
   "codemirror_mode": {
    "name": "ipython",
    "version": 3
   },
   "file_extension": ".py",
   "mimetype": "text/x-python",
   "name": "python",
   "nbconvert_exporter": "python",
   "pygments_lexer": "ipython3",
   "version": "3.8.8"
  }
 },
 "nbformat": 4,
 "nbformat_minor": 1
}
