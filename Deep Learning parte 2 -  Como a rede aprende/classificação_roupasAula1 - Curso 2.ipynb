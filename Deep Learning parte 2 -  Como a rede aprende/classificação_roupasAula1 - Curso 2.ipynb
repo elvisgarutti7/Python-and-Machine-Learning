{
 "cells": [
  {
   "cell_type": "markdown",
   "metadata": {
    "id": "5AUZLv4uT6qQ"
   },
   "source": [
    "Imports\n"
   ]
  },
  {
   "cell_type": "code",
   "execution_count": 1,
   "metadata": {
    "id": "YAN24Qb7TslE"
   },
   "outputs": [],
   "source": [
    "import tensorflow\n",
    "from tensorflow import keras \n",
    "import matplotlib.pyplot as plt\n",
    "import numpy as np"
   ]
  },
  {
   "cell_type": "markdown",
   "metadata": {
    "id": "CrS7d8YPUBeh"
   },
   "source": [
    "Carregando o dataset"
   ]
  },
  {
   "cell_type": "code",
   "execution_count": 2,
   "metadata": {
    "id": "6NnBDAuOTuL4"
   },
   "outputs": [],
   "source": [
    "dataset = keras.datasets.fashion_mnist\n",
    "((imagens_treino, identificacoes_treino),(imagens_teste, identificacoes_teste)) = dataset.load_data()"
   ]
  },
  {
   "cell_type": "markdown",
   "metadata": {
    "id": "TjPqK11LUE29"
   },
   "source": [
    "Exploração dos dados"
   ]
  },
  {
   "cell_type": "code",
   "execution_count": null,
   "metadata": {
    "colab": {
     "base_uri": "https://localhost:8080/"
    },
    "id": "-Gyb4Pg5TxQL",
    "outputId": "730d6ca6-a0ec-4e42-adca-c0ce04ed6802"
   },
   "outputs": [],
   "source": [
    "len(imagens_treino)\n",
    "imagens_treino.shape\n",
    "imagens_teste.shape\n",
    "len(identificacoes_treino)\n",
    "len(identificacoes_teste)\n",
    "identificacoes_treino.min()\n",
    "identificacoes_treino.max()\n"
   ]
  },
  {
   "cell_type": "markdown",
   "metadata": {
    "id": "H0mDiHcLUHJa"
   },
   "source": [
    "Exibir os dados"
   ]
  },
  {
   "cell_type": "code",
   "execution_count": 3,
   "metadata": {
    "colab": {
     "base_uri": "https://localhost:8080/",
     "height": 283
    },
    "id": "v0R6NsjPCtyU",
    "outputId": "b6e5e0c2-297a-44d0-a631-3c3462a76147"
   },
   "outputs": [
    {
     "data": {
      "text/plain": [
       "<matplotlib.colorbar.Colorbar at 0x1b7eb1e4a90>"
      ]
     },
     "execution_count": 3,
     "metadata": {},
     "output_type": "execute_result"
    },
    {
     "data": {
      "image/png": "[encoded data removed]",
      "text/plain": [
       "<Figure size 432x288 with 2 Axes>"
      ]
     },
     "metadata": {
      "needs_background": "light"
     },
     "output_type": "display_data"
    }
   ],
   "source": [
    "total_de_classificacoes = 10\n",
    "nomes_de_classificacoes = ['Camiseta', 'Calça', 'Pullover', 'Vestido', 'Casaco', 'Sandália', 'Camisa', 'Tênis', 'Bolsa', 'Bota']\n",
    "\n",
    "plt.imshow(imagens_treino[0])\n",
    "plt.colorbar()"
   ]
  },
  {
   "cell_type": "markdown",
   "metadata": {
    "id": "RcsP3obNrono"
   },
   "source": [
    "Normalizando as imagens"
   ]
  },
  {
   "cell_type": "code",
   "execution_count": null,
   "metadata": {
    "id": "tkBO6_bMDHf0"
   },
   "outputs": [],
   "source": [
    "# modelo #vai ser em sequência\n",
    "#   entrada\n",
    "#   processamento\n",
    "#   saida"
   ]
  },
  {
   "cell_type": "code",
   "execution_count": 4,
   "metadata": {
    "id": "_ppSqbo4U0-h"
   },
   "outputs": [],
   "source": [
    "# processo de dividir a imagem pela colarização é chamado de normalização, eficiente para diminuir a perca em alguns casos\n",
    "imagens_treino = imagens_treino/float(255)"
   ]
  },
  {
   "cell_type": "markdown",
   "metadata": {
    "id": "IL1YdxDXsLe_"
   },
   "source": [
    "Criando, copilando e treinando o modelo e normalizando o modelo com Dropout"
   ]
  },
  {
   "cell_type": "code",
   "execution_count": 13,
   "metadata": {
    "colab": {
     "base_uri": "https://localhost:8080/"
    },
    "id": "eYX92qbirwn_",
    "outputId": "54f0c370-cc43-4b19-ced8-9b74de327e86"
   },
   "outputs": [
    {
     "name": "stdout",
     "output_type": "stream",
     "text": [
      "Epoch 1/5\n",
      "100/100 [==============================] - 0s 4ms/step - loss: 0.6623 - accuracy: 0.7697 - val_loss: 0.4665 - val_accuracy: 0.8346\n",
      "Epoch 2/5\n",
      "100/100 [==============================] - 0s 3ms/step - loss: 0.4423 - accuracy: 0.8446 - val_loss: 0.4082 - val_accuracy: 0.8551\n",
      "Epoch 3/5\n",
      "100/100 [==============================] - 0s 3ms/step - loss: 0.3911 - accuracy: 0.8616 - val_loss: 0.3838 - val_accuracy: 0.8662\n",
      "Epoch 4/5\n",
      "100/100 [==============================] - 0s 3ms/step - loss: 0.3670 - accuracy: 0.8673 - val_loss: 0.3592 - val_accuracy: 0.8717\n",
      "Epoch 5/5\n",
      "100/100 [==============================] - 0s 3ms/step - loss: 0.3440 - accuracy: 0.8755 - val_loss: 0.3518 - val_accuracy: 0.8745\n"
     ]
    }
   ],
   "source": [
    "#criando o modelo\n",
    "modelo = keras.Sequential([\n",
    "  keras.layers.Flatten(input_shape = (28, 28)),\n",
    "  keras.layers.Dense(256, activation = tensorflow.nn.relu),\n",
    "  keras.layers.Dropout(0.2),\n",
    "  keras.layers.Dense(10, activation= tensorflow.nn.softmax)\n",
    "])\n",
    "\n",
    "\n",
    "adam = keras.optimizers.Adam(lr = 0.002)\n",
    "\n",
    "\n",
    "parando_cedo = [keras.callbacks.EarlyStopping(monitor = 'val_loss'),\n",
    "                keras.callbacks.ModelCheckpoint(filepath = 'melhor_modelo.hdf5',\n",
    "                                                monitor = 'val_loss', \n",
    "                                                save_best_only = True)\n",
    "               ]\n",
    "\n",
    "\n",
    "#copilando o modelo\n",
    "modelo.compile(optimizer = adam,\n",
    "               loss = 'sparse_categorical_crossentropy',\n",
    "               metrics=['accuracy'])\n",
    "\n",
    "#salvando dados do modelo e treinando o modelo\n",
    "historico = modelo.fit(imagens_treino, identificacoes_treino,\n",
    "                        batch_size = 480,\n",
    "                        epochs = 5, validation_split = 0.2,\n",
    "                        callbacks = parando_cedo)"
   ]
  },
  {
   "cell_type": "markdown",
   "metadata": {},
   "source": [
    "## sumario do modelo"
   ]
  },
  {
   "cell_type": "code",
   "execution_count": null,
   "metadata": {},
   "outputs": [],
   "source": [
    "# resumo do modelo\n",
    "sumario_do_modelo = modelo.summary()"
   ]
  },
  {
   "cell_type": "markdown",
   "metadata": {},
   "source": [
    "## visualizando as configurações do modelo"
   ]
  },
  {
   "cell_type": "code",
   "execution_count": null,
   "metadata": {},
   "outputs": [],
   "source": [
    "modelo.get_config()"
   ]
  },
  {
   "cell_type": "markdown",
   "metadata": {},
   "source": [
    "## Visualizando os pesos da camada dense 1"
   ]
  },
  {
   "cell_type": "code",
   "execution_count": null,
   "metadata": {},
   "outputs": [],
   "source": [
    "#pesos do tensor na camada 1\n",
    "pesos_camada_dense = modelo.layers[1].get_weights()[0]\n",
    "pesos_camada_dense"
   ]
  },
  {
   "cell_type": "markdown",
   "metadata": {},
   "source": [
    "## visualizando os vieses da camada 1"
   ]
  },
  {
   "cell_type": "code",
   "execution_count": null,
   "metadata": {},
   "outputs": [],
   "source": [
    "#vieses do tensor na camada 1\n",
    "vieses_camada_dense = modelo.layers[1].get_weights()[1]\n",
    "vieses_camada_dense.shape"
   ]
  },
  {
   "cell_type": "markdown",
   "metadata": {},
   "source": [
    "## Mudando os pesos e viéses do modelo"
   ]
  },
  {
   "cell_type": "markdown",
   "metadata": {},
   "source": [
    "resumo: configurar os pesos = 0 mata a rede/ configurar os pesos = aleatório deixa a rede viciada\n",
    "                                              # configurar os vieses = 0 pouca influencia / configurar os vieses = aleatório mata a rede\n",
    "   "
   ]
  },
  {
   "cell_type": "code",
   "execution_count": null,
   "metadata": {},
   "outputs": [],
   "source": [
    "# pesos_camada_dense.shape\n",
    "# pesos_camada_dense_zerados = np.zeros((784, 256))\n",
    "\n",
    "# vieses_camada_dense_zerados = np.zeros((256,))\n",
    "\n",
    "# modelo.layers[1].set_weights([pesos_camada_dense_aleatorios, vieses_camada_dense_zerados])\n",
    "\n",
    "# pesos_camada_dense_aleatorios = np.random.rand(784, 256)\n",
    "\n",
    "\n",
    "#  modelo.layers[1].set_weights([pesos_camada_dense_zerados, vieses_camada_dense])\n",
    "\n",
    "# modelo.layers[1].set_weights([pesos_camada_dense_aleatorios, vieses_camada_dense])\n",
    "\n",
    "\n",
    "# modelo.layers[1].get_weights()\n"
   ]
  },
  {
   "cell_type": "code",
   "execution_count": null,
   "metadata": {},
   "outputs": [],
   "source": []
  },
  {
   "cell_type": "code",
   "execution_count": null,
   "metadata": {},
   "outputs": [],
   "source": []
  },
  {
   "cell_type": "code",
   "execution_count": null,
   "metadata": {},
   "outputs": [],
   "source": []
  },
  {
   "cell_type": "code",
   "execution_count": null,
   "metadata": {},
   "outputs": [],
   "source": []
  },
  {
   "cell_type": "markdown",
   "metadata": {
    "id": "XZefMBYqskf7"
   },
   "source": [
    " Como salvar o modelo e carregar o modelo treinado"
   ]
  },
  {
   "cell_type": "code",
   "execution_count": null,
   "metadata": {
    "id": "R0UtyAEnqSYv"
   },
   "outputs": [],
   "source": [
    "from tensorflow.keras.models import load_model\n",
    "\n",
    "modelo.save('modelo.hdf5')\n",
    "modelo_salvo = load_model('modelo.hdf5')"
   ]
  },
  {
   "cell_type": "markdown",
   "metadata": {
    "id": "RsrjVr2os9TC"
   },
   "source": [
    "Visualizando as acurácias de treino e validação por época"
   ]
  },
  {
   "cell_type": "code",
   "execution_count": null,
   "metadata": {
    "id": "OpmzGGxsl8rp"
   },
   "outputs": [],
   "source": [
    "plt.plot(historico.history['accuracy'])\n",
    "plt.plot(historico.history['val_accuracy'])\n",
    "plt.title('Acurácia por épocas')\n",
    "plt.xlabel('épocas')\n",
    "plt.ylabel('acurácia')\n",
    "plt.legend(['treino', 'validação'])"
   ]
  },
  {
   "cell_type": "markdown",
   "metadata": {
    "id": "YjPWaL9PtHTS"
   },
   "source": [
    "Visualizando as perdas de treino e validação por época"
   ]
  },
  {
   "cell_type": "code",
   "execution_count": null,
   "metadata": {
    "colab": {
     "base_uri": "https://localhost:8080/",
     "height": 315
    },
    "id": "OaL2R2-1nPQj",
    "outputId": "2109e464-69ba-4f64-a671-9f1ddb2bbb48"
   },
   "outputs": [],
   "source": [
    "plt.plot(historico.history['loss'])\n",
    "plt.plot(historico.history['val_loss'])\n",
    "plt.title('Perda por épocas')\n",
    "plt.xlabel('épocas')\n",
    "plt.ylabel('perda')\n",
    "plt.legend(['treino', 'validação'])"
   ]
  },
  {
   "cell_type": "markdown",
   "metadata": {
    "id": "ii5OXbHOtRTH"
   },
   "source": [
    "Testando o modelo e o modelo salvo"
   ]
  },
  {
   "cell_type": "code",
   "execution_count": null,
   "metadata": {
    "colab": {
     "base_uri": "https://localhost:8080/"
    },
    "id": "seU3xLGJWUpK",
    "outputId": "85bd2ea7-d404-4dfd-bb1c-e09285ea7359"
   },
   "outputs": [],
   "source": [
    "testes = modelo.predict(imagens_teste)\n",
    "print('O resultadodo teste é: ', np.argmax(testes[1]))\n",
    "print('número da imagem de teste: ', identificacoes_teste[1])\n",
    "\n",
    "testes_modelo_salvo = modelo_salvo.predict(imagens_teste)\n",
    "print('O resultado do teste do modelo salvo: ', np.argmax(testes_modelo_salvo[1]))\n",
    "print('número da imagem de teste do modelo salvo: ', identificacoes_teste[1])"
   ]
  },
  {
   "cell_type": "markdown",
   "metadata": {
    "id": "UsVvsMCwtXvy"
   },
   "source": [
    "Avaliando o modelo"
   ]
  },
  {
   "cell_type": "code",
   "execution_count": null,
   "metadata": {
    "colab": {
     "base_uri": "https://localhost:8080/"
    },
    "id": "1U6Pkzf6c0WD",
    "outputId": "ffcbd9c6-9aef-4e83-c67e-4159572a4594"
   },
   "outputs": [],
   "source": [
    "perda_teste, acuracia_teste = modelo.evaluate(imagens_teste, identificacoes_teste)\n",
    "print('Perda do teste: ', perda_teste,\n",
    "      'Acurácia do teste: ', acuracia_teste\n",
    "      )"
   ]
  },
  {
   "cell_type": "code",
   "execution_count": null,
   "metadata": {},
   "outputs": [],
   "source": []
  }
 ],
 "metadata": {
  "colab": {
   "collapsed_sections": [],
   "name": "classificação_roupas.ipynb",
   "provenance": []
  },
  "kernelspec": {
   "display_name": "Python 3",
   "language": "python",
   "name": "python3"
  },
  "language_info": {
   "codemirror_mode": {
    "name": "ipython",
    "version": 3
   },
   "file_extension": ".py",
   "mimetype": "text/x-python",
   "name": "python",
   "nbconvert_exporter": "python",
   "pygments_lexer": "ipython3",
   "version": "3.8.8"
  }
 },
 "nbformat": 4,
 "nbformat_minor": 1
}
