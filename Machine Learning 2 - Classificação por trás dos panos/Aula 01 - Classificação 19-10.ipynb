{
 "cells": [
  {
   "cell_type": "code",
   "execution_count": 28,
   "id": "dc4aa472",
   "metadata": {},
   "outputs": [],
   "source": [
    "# 1 se ele é gordinho? \n",
    "# 2 tem perna curta?\n",
    "# 3 faz auau?\n",
    "\n",
    "porco1 = [1, 1, 0]\n",
    "porco2 = [1, 1, 0]\n",
    "porco3 = [1, 1, 0]\n",
    "cachorro1 = [1, 1, 1]\n",
    "cachorro2 = [0, 1, 1]\n",
    "cachorro3 = [0, 1, 1]\n",
    "\n",
    "dados = [porco1, porco2, porco3, \n",
    "cachorro1, cachorro2, cachorro3]\n",
    "\n",
    "marcacoes = [1, 1, 1, -1, -1, -1]\n",
    "\n",
    "misterioso1 = [1, 1, 1]\n",
    "misterioso2 = [1, 1, 0]\n",
    "misterioso3 = [0, 0, 1]\n",
    "teste = [misterioso1, misterioso2, misterioso3]"
   ]
  },
  {
   "cell_type": "code",
   "execution_count": 4,
   "id": "bfe03990",
   "metadata": {},
   "outputs": [],
   "source": [
    "from sklearn.naive_bayes import MultinomialNB"
   ]
  },
  {
   "cell_type": "code",
   "execution_count": 32,
   "id": "15ae53a2",
   "metadata": {},
   "outputs": [],
   "source": [
    "modelo = MultinomialNB()\n",
    "modelo.fit(dados, marcacoes)\n",
    "resultado = modelo.predict(teste)"
   ]
  },
  {
   "cell_type": "code",
   "execution_count": 44,
   "id": "19ab406f",
   "metadata": {},
   "outputs": [],
   "source": [
    "marcacoes_teste = [-1, 1, -1]"
   ]
  },
  {
   "cell_type": "code",
   "execution_count": 45,
   "id": "860b8d9e",
   "metadata": {},
   "outputs": [
    {
     "name": "stdout",
     "output_type": "stream",
     "text": [
      "[-1  1 -1]\n",
      "[0 0 0]\n",
      "100.0\n"
     ]
    }
   ],
   "source": [
    "diferencas = resultado - marcacoes_teste\n",
    "\n",
    "acertos = [d for d in diferencas if d == 0]\n",
    "\n",
    "total_de_acertos = len(acertos)\n",
    "total_de_elementos = len(teste)\n",
    "\n",
    "taxa_de_acerto = 100.0 * total_de_acertos / total_de_elementos\n",
    "\n",
    "print(resultado)\n",
    "print(diferencas)\n",
    "print(taxa_de_acerto)"
   ]
  },
  {
   "cell_type": "code",
   "execution_count": null,
   "id": "2623a52d",
   "metadata": {},
   "outputs": [],
   "source": []
  }
 ],
 "metadata": {
  "kernelspec": {
   "display_name": "Python 3",
   "language": "python",
   "name": "python3"
  },
  "language_info": {
   "codemirror_mode": {
    "name": "ipython",
    "version": 3
   },
   "file_extension": ".py",
   "mimetype": "text/x-python",
   "name": "python",
   "nbconvert_exporter": "python",
   "pygments_lexer": "ipython3",
   "version": "3.8.8"
  }
 },
 "nbformat": 4,
 "nbformat_minor": 5
}
