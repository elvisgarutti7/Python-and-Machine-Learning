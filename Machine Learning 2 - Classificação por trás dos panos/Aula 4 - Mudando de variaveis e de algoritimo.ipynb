{
 "cells": [
  {
   "cell_type": "code",
   "execution_count": 1,
   "id": "58ae506b",
   "metadata": {},
   "outputs": [],
   "source": [
    "from collections import Counter\n",
    "import pandas as pd"
   ]
  },
  {
   "cell_type": "code",
   "execution_count": 2,
   "id": "cc654304",
   "metadata": {},
   "outputs": [
    {
     "data": {
      "text/html": [
       "<div>\n",
       "<style scoped>\n",
       "    .dataframe tbody tr th:only-of-type {\n",
       "        vertical-align: middle;\n",
       "    }\n",
       "\n",
       "    .dataframe tbody tr th {\n",
       "        vertical-align: top;\n",
       "    }\n",
       "\n",
       "    .dataframe thead th {\n",
       "        text-align: right;\n",
       "    }\n",
       "</style>\n",
       "<table border=\"1\" class=\"dataframe\">\n",
       "  <thead>\n",
       "    <tr style=\"text-align: right;\">\n",
       "      <th></th>\n",
       "      <th>home</th>\n",
       "      <th>busca</th>\n",
       "      <th>logado</th>\n",
       "      <th>comprou</th>\n",
       "    </tr>\n",
       "  </thead>\n",
       "  <tbody>\n",
       "    <tr>\n",
       "      <th>0</th>\n",
       "      <td>0</td>\n",
       "      <td>algoritmos</td>\n",
       "      <td>1</td>\n",
       "      <td>1</td>\n",
       "    </tr>\n",
       "    <tr>\n",
       "      <th>1</th>\n",
       "      <td>0</td>\n",
       "      <td>java</td>\n",
       "      <td>0</td>\n",
       "      <td>1</td>\n",
       "    </tr>\n",
       "    <tr>\n",
       "      <th>2</th>\n",
       "      <td>1</td>\n",
       "      <td>algoritmos</td>\n",
       "      <td>0</td>\n",
       "      <td>1</td>\n",
       "    </tr>\n",
       "    <tr>\n",
       "      <th>3</th>\n",
       "      <td>1</td>\n",
       "      <td>ruby</td>\n",
       "      <td>1</td>\n",
       "      <td>0</td>\n",
       "    </tr>\n",
       "    <tr>\n",
       "      <th>4</th>\n",
       "      <td>1</td>\n",
       "      <td>ruby</td>\n",
       "      <td>0</td>\n",
       "      <td>1</td>\n",
       "    </tr>\n",
       "  </tbody>\n",
       "</table>\n",
       "</div>"
      ],
      "text/plain": [
       "   home       busca  logado  comprou\n",
       "0     0  algoritmos       1        1\n",
       "1     0        java       0        1\n",
       "2     1  algoritmos       0        1\n",
       "3     1        ruby       1        0\n",
       "4     1        ruby       0        1"
      ]
     },
     "execution_count": 2,
     "metadata": {},
     "output_type": "execute_result"
    }
   ],
   "source": [
    "df = pd.read_csv('buscas.csv') #dataframe lido\n",
    "\n",
    "df.head()"
   ]
  },
  {
   "cell_type": "code",
   "execution_count": 3,
   "id": "cc823f04",
   "metadata": {},
   "outputs": [],
   "source": [
    "x_df = df[['home', 'busca', 'logado']] #separou as colunas\n",
    "y_df = df['comprou']"
   ]
  },
  {
   "cell_type": "code",
   "execution_count": 4,
   "id": "9b6f8a15",
   "metadata": {},
   "outputs": [],
   "source": [
    "xdummies_df = pd.get_dummies(x_df) #processou os dummies por causa da STR\n",
    "ydummies_df = y_df"
   ]
  },
  {
   "cell_type": "code",
   "execution_count": 5,
   "id": "a4b33372",
   "metadata": {},
   "outputs": [],
   "source": [
    "X = xdummies_df.values #transformou em array para o machine learning\n",
    "Y = ydummies_df.values"
   ]
  },
  {
   "cell_type": "code",
   "execution_count": 34,
   "id": "7aa56089",
   "metadata": {},
   "outputs": [],
   "source": [
    "porcentagem_de_treino = 0.8 #sistema de treino\n",
    "porcentagem_de_teste = 0.1\n",
    " \n",
    "tamanho_de_treino = porcentagem_de_treino * len(Y)\n",
    "tamanho_de_teste = porcentagem_de_teste * len(Y)\n",
    "tamanho_de_validacao = len(Y) - tamanho_de_treino - tamanho_de_teste\n",
    " \n",
    "treino_dados = X[:int(tamanho_de_treino)]\n",
    "treino_marcacoes = Y[:int(tamanho_de_treino)]\n",
    " \n",
    "fim_de_teste = tamanho_de_treino + tamanho_de_teste\n",
    " \n",
    "teste_dados = X[int(tamanho_de_treino):int(fim_de_teste)]\n",
    "teste_marcacoes = Y[int(tamanho_de_treino):int(fim_de_teste)]\n",
    " \n",
    "validacao_dados = X[int(fim_de_teste):]\n",
    "validacao_marcacoes = Y[int(fim_de_teste):]"
   ]
  },
  {
   "cell_type": "code",
   "execution_count": 43,
   "id": "1bc18d38",
   "metadata": {},
   "outputs": [
    {
     "name": "stdout",
     "output_type": "stream",
     "text": [
      "Taxa de acerto do algoritmo MultinomialNB: 82.0\n",
      "Taxa de acerto do algoritmo AdaBoostClassifier: 84.0\n",
      "Taxa de acerto do vencedor entre os dois algoritmos no mundo real: 85.0\n",
      "Taxa de acerto base: 82.000000\n",
      "Total de teste: 100\n"
     ]
    }
   ],
   "source": [
    "#codigo para calculo do algoritimo classificação naive_bayes.\n",
    "#codigo para calculo do algoritimo classificação usando AdaBoostClassifer\n",
    "#teste e validação dos dados.\n",
    "\n",
    "def fit_and_predict(nome, modelo, treino_dados, treino_marcacoes, teste_dados, teste_marcacoes):\n",
    "    modelo.fit(treino_dados, treino_marcacoes)\n",
    "\n",
    "    resultado = modelo.predict(teste_dados)\n",
    "\n",
    "    acertos = resultado == teste_marcacoes\n",
    "\n",
    "    total_de_acertos = sum(acertos)\n",
    "    total_de_elementos = len(teste_dados)\n",
    "\n",
    "    taxa_de_acerto = 100.0 * total_de_acertos / total_de_elementos\n",
    "\n",
    "    msg = \"Taxa de acerto do algoritmo {0}: {1}\".format(nome, taxa_de_acerto)\n",
    "\n",
    "    print(msg)\n",
    "    return taxa_de_acerto\n",
    "\n",
    "def teste_real(modelo, validacao_dados, validacao_marcacoes):\n",
    "    resultado = modelo.predict(validacao_dados)\n",
    "    acertos = resultado == validacao_marcacoes\n",
    "\n",
    "    total_de_acertos = sum(acertos)\n",
    "    total_de_elementos = len(validacao_marcacoes)\n",
    "\n",
    "    taxa_de_acerto = 100.0 * total_de_acertos / total_de_elementos\n",
    "\n",
    "    msg = \"Taxa de acerto do vencedor entre os dois algoritmos no mundo real: {0}\".format(taxa_de_acerto)\n",
    "    print(msg)\n",
    "\n",
    "from sklearn.naive_bayes import MultinomialNB\n",
    "modeloMultinomial = MultinomialNB()\n",
    "resultadoMultinomial = fit_and_predict(\"MultinomialNB\", modeloMultinomial, treino_dados,\n",
    " treino_marcacoes, teste_dados, teste_marcacoes)\n",
    "\n",
    "from sklearn.ensemble import AdaBoostClassifier\n",
    "modeloAdaBoost = AdaBoostClassifier()\n",
    "resultadoAdaBoost = fit_and_predict(\"AdaBoostClassifier\", modeloAdaBoost, treino_dados, \n",
    "treino_marcacoes, teste_dados, teste_marcacoes)\n",
    "\n",
    "if resultadoMultinomial > resultadoAdaBoost:\n",
    "    vencedor = modeloMultinomial\n",
    "else:\n",
    "    vencedor = modeloAdaBoost\n",
    "\n",
    "teste_real(vencedor, validacao_dados, validacao_marcacoes)\n",
    "\n",
    "acerto_base = max(Counter(validacao_marcacoes).values())\n",
    "taxa_de_acerto_base = 100.0 * acerto_base / len(validacao_marcacoes)\n",
    "print(\"Taxa de acerto base: %f\" % taxa_de_acerto_base)\n",
    "\n",
    "total_de_elementos = len(validacao_dados)\n",
    "print(\"Total de teste: %d\" % total_de_elementos)"
   ]
  },
  {
   "cell_type": "code",
   "execution_count": 37,
   "id": "5296885a",
   "metadata": {},
   "outputs": [
    {
     "name": "stdout",
     "output_type": "stream",
     "text": [
      "Taxa de acerto base: 82.0\n"
     ]
    }
   ],
   "source": [
    "# a eficácia do algoritmo que chuta tudo 0 ou 1\n",
    "acerto_base = max(Counter(teste_marcacoes).values())\n",
    "# acerto_de_um = len(Y[Y==1])\n",
    "# acerto_de_zero = len(Y[Y==0])\n",
    "taxa_de_acerto_base = 100 * acerto_base / len(teste_marcacoes)\n",
    "print(f'Taxa de acerto base: {taxa_de_acerto_base}')"
   ]
  },
  {
   "cell_type": "code",
   "execution_count": null,
   "id": "e920475b",
   "metadata": {},
   "outputs": [],
   "source": []
  }
 ],
 "metadata": {
  "kernelspec": {
   "display_name": "Python 3",
   "language": "python",
   "name": "python3"
  },
  "language_info": {
   "codemirror_mode": {
    "name": "ipython",
    "version": 3
   },
   "file_extension": ".py",
   "mimetype": "text/x-python",
   "name": "python",
   "nbconvert_exporter": "python",
   "pygments_lexer": "ipython3",
   "version": "3.8.8"
  }
 },
 "nbformat": 4,
 "nbformat_minor": 5
}
