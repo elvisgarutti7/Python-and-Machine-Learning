{
 "cells": [
  {
   "cell_type": "code",
   "execution_count": 2,
   "id": "58ae506b",
   "metadata": {},
   "outputs": [],
   "source": [
    "from collections import Counter\n",
    "import pandas as pd"
   ]
  },
  {
   "cell_type": "code",
   "execution_count": 164,
   "id": "cc654304",
   "metadata": {},
   "outputs": [
    {
     "data": {
      "text/html": [
       "<div>\n",
       "<style scoped>\n",
       "    .dataframe tbody tr th:only-of-type {\n",
       "        vertical-align: middle;\n",
       "    }\n",
       "\n",
       "    .dataframe tbody tr th {\n",
       "        vertical-align: top;\n",
       "    }\n",
       "\n",
       "    .dataframe thead th {\n",
       "        text-align: right;\n",
       "    }\n",
       "</style>\n",
       "<table border=\"1\" class=\"dataframe\">\n",
       "  <thead>\n",
       "    <tr style=\"text-align: right;\">\n",
       "      <th></th>\n",
       "      <th>home</th>\n",
       "      <th>busca</th>\n",
       "      <th>logado</th>\n",
       "      <th>comprou</th>\n",
       "    </tr>\n",
       "  </thead>\n",
       "  <tbody>\n",
       "    <tr>\n",
       "      <th>0</th>\n",
       "      <td>0</td>\n",
       "      <td>algoritmos</td>\n",
       "      <td>1</td>\n",
       "      <td>1</td>\n",
       "    </tr>\n",
       "    <tr>\n",
       "      <th>1</th>\n",
       "      <td>0</td>\n",
       "      <td>java</td>\n",
       "      <td>0</td>\n",
       "      <td>1</td>\n",
       "    </tr>\n",
       "    <tr>\n",
       "      <th>2</th>\n",
       "      <td>1</td>\n",
       "      <td>algoritmos</td>\n",
       "      <td>0</td>\n",
       "      <td>1</td>\n",
       "    </tr>\n",
       "    <tr>\n",
       "      <th>3</th>\n",
       "      <td>1</td>\n",
       "      <td>ruby</td>\n",
       "      <td>1</td>\n",
       "      <td>0</td>\n",
       "    </tr>\n",
       "    <tr>\n",
       "      <th>4</th>\n",
       "      <td>1</td>\n",
       "      <td>ruby</td>\n",
       "      <td>0</td>\n",
       "      <td>1</td>\n",
       "    </tr>\n",
       "  </tbody>\n",
       "</table>\n",
       "</div>"
      ],
      "text/plain": [
       "   home       busca  logado  comprou\n",
       "0     0  algoritmos       1        1\n",
       "1     0        java       0        1\n",
       "2     1  algoritmos       0        1\n",
       "3     1        ruby       1        0\n",
       "4     1        ruby       0        1"
      ]
     },
     "execution_count": 164,
     "metadata": {},
     "output_type": "execute_result"
    }
   ],
   "source": [
    "df = pd.read_csv('buscas.csv') #dataframe lido\n",
    "\n",
    "df.head()"
   ]
  },
  {
   "cell_type": "code",
   "execution_count": 165,
   "id": "cc823f04",
   "metadata": {},
   "outputs": [],
   "source": [
    "x_df = df[['home', 'busca', 'logado']] #separou as colunas\n",
    "y_df = df['comprou']"
   ]
  },
  {
   "cell_type": "code",
   "execution_count": 166,
   "id": "9b6f8a15",
   "metadata": {},
   "outputs": [],
   "source": [
    "xdummies_df = pd.get_dummies(x_df) #processou os dummies por causa da STR\n",
    "ydummies_df = y_df"
   ]
  },
  {
   "cell_type": "code",
   "execution_count": 170,
   "id": "a4b33372",
   "metadata": {},
   "outputs": [],
   "source": [
    "X = xdummies_df.values #transformou em array para o machine learning\n",
    "Y = ydummies_df.values"
   ]
  },
  {
   "cell_type": "code",
   "execution_count": 168,
   "id": "7aa56089",
   "metadata": {},
   "outputs": [],
   "source": [
    "porcentagem_treino = 0.9 # sistema de treino\n",
    "\n",
    "tamanho_de_treino = porcentagem_treino * len(Y)\n",
    "tamanho_de_teste = len(Y) - tamanho_de_treino\n",
    "\n",
    "treino_dados = X[:int(tamanho_de_treino)]\n",
    "treino_marcacoes = Y[:int(tamanho_de_treino)]\n",
    "\n",
    "teste_dados = X[int(-tamanho_de_teste):]\n",
    "teste_marcacoes = Y[int(-tamanho_de_teste):]\n",
    " "
   ]
  },
  {
   "cell_type": "code",
   "execution_count": 173,
   "id": "1bc18d38",
   "metadata": {},
   "outputs": [
    {
     "name": "stdout",
     "output_type": "stream",
     "text": [
      "Taxa de acerto do algoritimo foi de 82.0,com 100\n"
     ]
    }
   ],
   "source": [
    "#codigo para calculo do algoritimo classificação naive_bayes.\n",
    "#teste e validação dos dados.\n",
    "\n",
    "from sklearn.naive_bayes import MultinomialNB \n",
    "modelo = MultinomialNB()\n",
    "modelo.fit(treino_dados, treino_marcacoes)\n",
    "\n",
    "\n",
    "resultado = modelo.predict(teste_dados)\n",
    "diferencas = resultado - teste_marcacoes\n",
    "\n",
    "acertos = [d for d in diferencas if d == 0]\n",
    "total_de_acertos =  len(acertos)\n",
    "total_de_elementos = len(teste_dados)\n",
    "taxa_de_acerto = 100 * total_de_acertos/total_de_elementos\n",
    "\n",
    "print(f'Taxa de acerto do algoritimo foi de {taxa_de_acerto},com {total_de_elementos}')\n"
   ]
  },
  {
   "cell_type": "code",
   "execution_count": 174,
   "id": "5296885a",
   "metadata": {},
   "outputs": [
    {
     "name": "stdout",
     "output_type": "stream",
     "text": [
      "Taxa de acerto base: 82.0\n"
     ]
    }
   ],
   "source": [
    "# a eficácia do algoritmo que chuta tudo 0 ou 1\n",
    "acerto_base = max(Counter(teste_marcacoes).values())\n",
    "# acerto_de_um = len(Y[Y==1])\n",
    "# acerto_de_zero = len(Y[Y==0])\n",
    "taxa_de_acerto_base = 100 * acerto_base / len(teste_marcacoes)\n",
    "print(f'Taxa de acerto base: {taxa_de_acerto_base}')"
   ]
  },
  {
   "cell_type": "code",
   "execution_count": null,
   "id": "e920475b",
   "metadata": {},
   "outputs": [],
   "source": []
  }
 ],
 "metadata": {
  "kernelspec": {
   "display_name": "Python 3",
   "language": "python",
   "name": "python3"
  },
  "language_info": {
   "codemirror_mode": {
    "name": "ipython",
    "version": 3
   },
   "file_extension": ".py",
   "mimetype": "text/x-python",
   "name": "python",
   "nbconvert_exporter": "python",
   "pygments_lexer": "ipython3",
   "version": "3.8.8"
  }
 },
 "nbformat": 4,
 "nbformat_minor": 5
}
